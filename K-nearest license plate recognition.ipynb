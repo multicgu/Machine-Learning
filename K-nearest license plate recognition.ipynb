{
 "cells": [
  {
   "cell_type": "markdown",
   "metadata": {},
   "source": [
    "# 基于K-近邻的车牌号识别"
   ]
  },
  {
   "cell_type": "markdown",
   "metadata": {},
   "source": [
    "## 一、案例简介\n",
    "\n",
    "图像的智能处理一直是人工智能领域广受关注的一类技术，代表性的如人脸识别与 CT 肿瘤识别，在人工智能落地的进程中发挥着重要作用。其中车牌号识别作为一个早期应用场景，已经融入日常生活中，为我们提供了诸多便利，在各地的停车场和出入口都能看到它的身影。车牌号识别往往分为字符划分和字符识别两个子任务，本案例我们将关注字符识别的任务，尝试用 K-NN 的方法对分割好的字符图像进行自动识别和转化。"
   ]
  },
  {
   "cell_type": "markdown",
   "metadata": {},
   "source": [
    "## 二、数据概览\n",
    "本次我们使用已经分割好的车牌图片作为数据集，包括数字 0-9、字母 A-Z（不包含 O 和 I）以及省份简称共 65 个类，编号从 0 到 64。数据已经分成了训练集和测试集，里面的文件夹用 label 编号命名，一个文件夹下的所有图片都属于该文件夹对应的类，每个图片都是 20 * 20 的二值化灰度图。\n",
    "\n",
    "下面演示一下如何借助 PIL 库将图片转化为向量："
   ]
  },
  {
   "cell_type": "code",
   "execution_count": 1,
   "metadata": {},
   "outputs": [
    {
     "data": {
      "image/png": "[encoded data removed]",
      "text/plain": [
       "<PIL.JpegImagePlugin.JpegImageFile image mode=L size=20x20 at 0x12B0D2B01D0>"
      ]
     },
     "execution_count": 1,
     "metadata": {},
     "output_type": "execute_result"
    }
   ],
   "source": [
    "from PIL import Image\n",
    "img = Image.open('data/train/0/4-3.jpg')  # 打开图片\n",
    "img  # 显示图片from PIL import Image\n",
    "img = Image.open('data/train/0/4-3.jpg')  # 打开图片\n",
    "img  # 显示图片"
   ]
  },
  {
   "cell_type": "code",
   "execution_count": 2,
   "metadata": {},
   "outputs": [
    {
     "name": "stdout",
     "output_type": "stream",
     "text": [
      "(20, 20)\n"
     ]
    }
   ],
   "source": [
    "import numpy as np\n",
    "pixels = np.array(img)  # 转化为 numpy 矩阵\n",
    "print(pixels.shape)\n",
    "#print(pixels)"
   ]
  },
  {
   "cell_type": "markdown",
   "metadata": {},
   "source": [
    "## 三、模型构建"
   ]
  },
  {
   "cell_type": "code",
   "execution_count": 3,
   "metadata": {},
   "outputs": [],
   "source": [
    "from PIL import Image\n",
    "import numpy as np\n",
    "import pandas as pd\n",
    "import os\n",
    "from sklearn.neighbors import KNeighborsClassifier\n",
    "from sklearn.metrics import accuracy_score"
   ]
  },
  {
   "cell_type": "code",
   "execution_count": 4,
   "metadata": {},
   "outputs": [
    {
     "name": "stdout",
     "output_type": "stream",
     "text": [
      "(15954, 400) (4665, 400)\n"
     ]
    }
   ],
   "source": [
    "train_path = \"./data/train/\"\n",
    "test_path = \"./data/test/\"\n",
    "train_x = []\n",
    "train_y = []\n",
    "test_x = []\n",
    "test_y = []\n",
    "for root, ds, fs in os.walk(train_path):\n",
    "    for d in ds:\n",
    "        dir = os.path.join(root, d)\n",
    "        for l in os.listdir(dir):\n",
    "            path = os.path.join(dir, l)\n",
    "            img = Image.open(path)\n",
    "            pixels = np.array(img).reshape(-1)\n",
    "            #pixels = np.array(img)\n",
    "            train_x.append(pixels)\n",
    "            train_y.append(d)\n",
    "            \n",
    "for root, ds, fs in os.walk(test_path):\n",
    "    for d in ds:\n",
    "        dir = os.path.join(root, d)\n",
    "        for l in os.listdir(dir):\n",
    "            path = os.path.join(dir, l)\n",
    "            img = Image.open(path)\n",
    "            pixels = np.array(img).reshape(-1)\n",
    "            #pixels = np.array(img)\n",
    "            test_x.append(pixels)\n",
    "            test_y.append(d)\n",
    "\n",
    "train_x = np.array(train_x)\n",
    "train_y = np.array(train_y)\n",
    "test_x = np.array(test_x)\n",
    "test_y = np.array(test_y)\n",
    "print(train_x.shape, test_x.shape)"
   ]
  },
  {
   "cell_type": "code",
   "execution_count": 5,
   "metadata": {},
   "outputs": [
    {
     "name": "stdout",
     "output_type": "stream",
     "text": [
      "[  1   0   1   0   0   2  26 139 254 255 254 254 141  27   1   2   0   0\n",
      "   0   0   0   2   2   0   1  95 254 255 255 250 253 255 250 253  27   0\n",
      "   0   0   0   0   0   3   0   0 119 255 251 190 126 128 131 162 255 254\n",
      " 140   0   0   0   0   0   0   0   2   4 229 252 203  39   0   1   0  23\n",
      " 166 251 255   3   0   0   0   0   3   0   1   0 229 255 177   1   0   8\n",
      "   0   1 130 253 255   0   0   0   0   0   0   2   4   0 232 252 182   0\n",
      "   3   0   2   1 126 255 252 233   0   0   0   0   3   3   0   4 227 254\n",
      " 182   3   0   1   0   2 122 255 255 230   0   0   0   0   0   0   5   0\n",
      " 229 255 176   0   0   2   0   0  64 219 254 227   0   0   0   0   0   0\n",
      "   1   0 230 254 180   0   5   0   1   0   0 180 254 229   0   0   0   0\n",
      "   0   0   1   1 228 253 179   2   0   7   1   0 119 247 253 232   0   0\n",
      "   0   0   1   1   0   1 230 254 176   0   2   1   0   5 127 254 253 231\n",
      "   0   0   0   0   1   1   0   0 231 253 177   1   0   2   0   0  91 233\n",
      " 255 229   0   0   0   0   0   0   1   0 230 252 181   5   0   0   2   3\n",
      "   0 180 255 226   0   0   0   0   1   0   1   1 231 255 181   0   0   4\n",
      "   1   2   0 179 255 229   0   0   0   0   1   0   0   3 224 255 181   0\n",
      "   3   0   0   0   3 178 253 231   0   0   0   0   0   2   0   1 208 250\n",
      " 186  16   0   3   0   1 127 255 255 205   0   0   0   0   1   0   0   2\n",
      "   1 255 251 169  24   0  11  79 167 255 255   0   0   0   0   0   0   0\n",
      "   5   0   0 143 255 253 164 132 141 252 254 253 143   0   0   0   0   0\n",
      "   2   0   0   0   1   7 128 254 255 252 255 253 255 130   4   3   0   0\n",
      "   0   0   1   0   6   0   0   1   9  31 187 252 232  26  30   7   4   0\n",
      "   0   0   0   0]\n"
     ]
    }
   ],
   "source": [
    "print(train_x[0])"
   ]
  },
  {
   "cell_type": "markdown",
   "metadata": {},
   "source": [
    "### n=1~10, weight=uniform\n",
    "观察k值从1到10，使用平权。"
   ]
  },
  {
   "cell_type": "code",
   "execution_count": 6,
   "metadata": {},
   "outputs": [
    {
     "name": "stdout",
     "output_type": "stream",
     "text": [
      "n=1,accuracy score is : 0.716827\n",
      "n=2,accuracy score is : 0.721972\n",
      "n=3,accuracy score is : 0.703108\n",
      "n=4,accuracy score is : 0.707395\n",
      "n=5,accuracy score is : 0.696892\n",
      "n=6,accuracy score is : 0.696463\n",
      "n=7,accuracy score is : 0.695606\n",
      "n=8,accuracy score is : 0.692390\n",
      "n=9,accuracy score is : 0.691318\n",
      "n=10,accuracy score is : 0.691104\n"
     ]
    }
   ],
   "source": [
    "for i in range(1,11):\n",
    "    knn = KNeighborsClassifier(n_neighbors=i, weights = 'uniform', n_jobs=-1,algorithm='kd_tree')\n",
    "    knn.fit(train_x,train_y)\n",
    "    predict_y = knn.predict(test_x)\n",
    "    acc = accuracy_score(predict_y, test_y)\n",
    "    print(\"n=%d,accuracy score is : %.6f\" %(i,acc))"
   ]
  },
  {
   "cell_type": "markdown",
   "metadata": {},
   "source": [
    "### n=1~10, weight=distance, p=2(Euclidean distance)\n",
    "即观察k值从1到10，使用距离加权，使用欧氏距离  sqrt(sum((x - y)^2))"
   ]
  },
  {
   "cell_type": "code",
   "execution_count": 7,
   "metadata": {},
   "outputs": [
    {
     "name": "stdout",
     "output_type": "stream",
     "text": [
      "n=1, accuracy score is : 0.716827\n",
      "n=2, accuracy score is : 0.716827\n",
      "n=3, accuracy score is : 0.710397\n",
      "n=4, accuracy score is : 0.707824\n",
      "n=5, accuracy score is : 0.701608\n",
      "n=6, accuracy score is : 0.699250\n",
      "n=7, accuracy score is : 0.699250\n",
      "n=8, accuracy score is : 0.695820\n",
      "n=9, accuracy score is : 0.694962\n",
      "n=10, accuracy score is : 0.694319\n"
     ]
    }
   ],
   "source": [
    "for i in range(1,11):\n",
    "    knn = KNeighborsClassifier(n_neighbors=i, weights = 'distance', n_jobs=-1, algorithm='kd_tree')\n",
    "    knn.fit(train_x,train_y)\n",
    "    predict_y = knn.predict(test_x)\n",
    "    acc = accuracy_score(predict_y, test_y)\n",
    "    print(\"n=%d, accuracy score is : %.6f\" %(i,acc))"
   ]
  },
  {
   "cell_type": "markdown",
   "metadata": {},
   "source": [
    "也是欧氏距离，测试工具用法"
   ]
  },
  {
   "cell_type": "code",
   "execution_count": 8,
   "metadata": {},
   "outputs": [
    {
     "name": "stdout",
     "output_type": "stream",
     "text": [
      "n=1, accuracy score is : 0.716827\n",
      "n=2, accuracy score is : 0.716827\n",
      "n=3, accuracy score is : 0.710397\n",
      "n=4, accuracy score is : 0.707824\n",
      "n=5, accuracy score is : 0.701608\n",
      "n=6, accuracy score is : 0.699250\n",
      "n=7, accuracy score is : 0.699250\n",
      "n=8, accuracy score is : 0.695820\n",
      "n=9, accuracy score is : 0.694962\n",
      "n=10, accuracy score is : 0.694319\n"
     ]
    }
   ],
   "source": [
    "for i in range(1,11):\n",
    "    knn = KNeighborsClassifier(n_neighbors=i, weights = 'distance', n_jobs=-1, algorithm='kd_tree', p=2, metric='minkowski')\n",
    "    knn.fit(train_x,train_y)\n",
    "    predict_y = knn.predict(test_x)\n",
    "    acc = accuracy_score(predict_y, test_y)\n",
    "    print(\"n=%d, accuracy score is : %.6f\" %(i,acc))"
   ]
  },
  {
   "cell_type": "markdown",
   "metadata": {},
   "source": [
    "### n=1~10, weight=distance, p=1(Manhatan distance)\n",
    "使用曼哈顿距离观察下 sum(|x - y|)"
   ]
  },
  {
   "cell_type": "code",
   "execution_count": 8,
   "metadata": {},
   "outputs": [
    {
     "name": "stdout",
     "output_type": "stream",
     "text": [
      "n=1, accuracy score is : 0.714469\n",
      "n=2, accuracy score is : 0.714469\n",
      "n=3, accuracy score is : 0.706109\n",
      "n=4, accuracy score is : 0.697749\n",
      "n=5, accuracy score is : 0.697535\n",
      "n=6, accuracy score is : 0.694962\n",
      "n=7, accuracy score is : 0.689389\n",
      "n=8, accuracy score is : 0.686388\n",
      "n=9, accuracy score is : 0.684887\n",
      "n=10, accuracy score is : 0.684244\n"
     ]
    }
   ],
   "source": [
    "for i in range(1,11):\n",
    "    knn = KNeighborsClassifier(n_neighbors=i, weights = 'distance', n_jobs=-1, algorithm='kd_tree',p=1,metric='minkowski')\n",
    "    knn.fit(train_x,train_y)\n",
    "    predict_y = knn.predict(test_x)\n",
    "    acc = accuracy_score(predict_y, test_y)\n",
    "    print(\"n=%d, accuracy score is : %.6f\" %(i,acc))"
   ]
  },
  {
   "cell_type": "markdown",
   "metadata": {},
   "source": [
    "### 使用闵可夫斯基距离  sum(|x - y|^p)^(1/p); p=3 (3次方的速度真的超级慢。。。）"
   ]
  },
  {
   "cell_type": "code",
   "execution_count": 10,
   "metadata": {},
   "outputs": [
    {
     "name": "stdout",
     "output_type": "stream",
     "text": [
      "n=1, accuracy score is : 0.711254\n",
      "n=2, accuracy score is : 0.711254\n",
      "n=3, accuracy score is : 0.707610\n",
      "n=4, accuracy score is : 0.703537\n",
      "n=5, accuracy score is : 0.703108\n",
      "n=6, accuracy score is : 0.701608\n",
      "n=7, accuracy score is : 0.696892\n",
      "n=8, accuracy score is : 0.693676\n",
      "n=9, accuracy score is : 0.691318\n",
      "n=10, accuracy score is : 0.691533\n"
     ]
    }
   ],
   "source": [
    "for i in range(1,11):\n",
    "    knn = KNeighborsClassifier(n_neighbors=i, weights = 'distance', n_jobs=-1, algorithm='kd_tree',p=3, metric='minkowski')\n",
    "    knn.fit(train_x,train_y)\n",
    "    predict_y = knn.predict(test_x)\n",
    "    acc = accuracy_score(predict_y, test_y)\n",
    "    print(\"n=%d, accuracy score is : %.6f\" %(i,acc))"
   ]
  },
  {
   "cell_type": "markdown",
   "metadata": {},
   "source": [
    "### 使用切比雪夫距离  \t max(|x - y|)    \n",
    "效果不好"
   ]
  },
  {
   "cell_type": "code",
   "execution_count": 11,
   "metadata": {},
   "outputs": [
    {
     "name": "stdout",
     "output_type": "stream",
     "text": [
      "n=1, accuracy score is : 0.449946\n",
      "n=2, accuracy score is : 0.465809\n",
      "n=3, accuracy score is : 0.453805\n",
      "n=4, accuracy score is : 0.447374\n",
      "n=5, accuracy score is : 0.432583\n",
      "n=6, accuracy score is : 0.428510\n",
      "n=7, accuracy score is : 0.425723\n",
      "n=8, accuracy score is : 0.424437\n",
      "n=9, accuracy score is : 0.413934\n",
      "n=10, accuracy score is : 0.414791\n"
     ]
    }
   ],
   "source": [
    "for i in range(1,11):\n",
    "    knn = KNeighborsClassifier(n_neighbors=i, weights = 'distance', n_jobs=-1, algorithm='kd_tree', metric='chebyshev')\n",
    "    knn.fit(train_x,train_y)\n",
    "    predict_y = knn.predict(test_x)\n",
    "    acc = accuracy_score(predict_y, test_y)\n",
    "    print(\"n=%d, accuracy score is : %.6f\" %(i,acc))"
   ]
  },
  {
   "cell_type": "markdown",
   "metadata": {},
   "source": [
    "### 通过以上使用不同方法（n值，距离加权）后对数据的观察，除了切比雪夫距离比较差，其他结果并没有太显著的变化。n值取1~2为最优。\n",
    "\n",
    "\n",
    "### 觉得识别率太低，对比下其他数据集的准确率，试图分析是算法原因还是数据集原因\n",
    "### 导入手写数字数据集"
   ]
  },
  {
   "cell_type": "code",
   "execution_count": 9,
   "metadata": {},
   "outputs": [
    {
     "name": "stdout",
     "output_type": "stream",
     "text": [
      "(1797, 64)\n",
      "acc : 0.988889\n"
     ]
    }
   ],
   "source": [
    "from sklearn import datasets\n",
    "from sklearn.model_selection import train_test_split\n",
    "digits = datasets.load_digits()\n",
    "print(digits.data.shape)\n",
    "train_x, test_x, train_y, test_y = train_test_split(digits.data, digits.target, test_size=0.2, random_state=8)\n",
    "dknn = KNeighborsClassifier(n_neighbors=3, weights = 'distance', n_jobs=-1, algorithm='kd_tree', metric='minkowski')\n",
    "dknn.fit(train_x, train_y)\n",
    "predict_y = dknn.predict(test_x)\n",
    "acc = accuracy_score(predict_y, test_y)\n",
    "print(\"acc : %.6f\" %(acc))"
   ]
  },
  {
   "cell_type": "code",
   "execution_count": 10,
   "metadata": {},
   "outputs": [
    {
     "name": "stdout",
     "output_type": "stream",
     "text": [
      "<class 'numpy.ndarray'>\n"
     ]
    }
   ],
   "source": [
    "print(type(digits.data))"
   ]
  },
  {
   "cell_type": "markdown",
   "metadata": {},
   "source": [
    "### 发现经典数据集digits的准确率很高，分析区别：  \n",
    "1.牌照data set sample 的feature大小是 : 20 * 20，digit data set feature的大小是 : 8 * 8。可能牌照数据样本的矩阵太稀疏。  \n",
    "2.整个训练样本很小，尝试调整牌照train set比例。  \n",
    "3.牌照数据集训练样本复杂（数字，字母，区域），而digit训练样本单一，只有数字。  "
   ]
  },
  {
   "cell_type": "markdown",
   "metadata": {},
   "source": [
    "### 直觉告诉我是第三个原因，将数据集按照数字，字母，区域划分，分别再训练"
   ]
  },
  {
   "cell_type": "code",
   "execution_count": 11,
   "metadata": {},
   "outputs": [
    {
     "data": {
      "text/plain": [
       "((7694, 400), (7694,), (5481, 400), (5481,), (2779, 400), (2779,))"
      ]
     },
     "execution_count": 11,
     "metadata": {},
     "output_type": "execute_result"
    }
   ],
   "source": [
    "# 0~9 number, 10~33 A~Z, 34~65 zone\n",
    "train_path = \"./data/train/\"\n",
    "test_path = \"./data/test/\"\n",
    "# number data 0~9\n",
    "train_n_x = []\n",
    "train_n_y = []\n",
    "test_n_x = []\n",
    "test_n_y = []\n",
    "# alphabet data 10~33\n",
    "train_alp_x = []\n",
    "train_alp_y = []\n",
    "test_alp_x = []\n",
    "test_alp_y = []\n",
    "# zone data 34~65\n",
    "train_z_x = []\n",
    "train_z_y = []\n",
    "test_z_x = []\n",
    "test_z_y = []\n",
    "\n",
    "for root, ds, fs in os.walk(train_path):\n",
    "    for d in ds:\n",
    "        dir = os.path.join(root, d)\n",
    "        for l in os.listdir(dir):\n",
    "            path = os.path.join(dir, l)\n",
    "            img = Image.open(path)\n",
    "            pixels = np.array(img).reshape(-1)\n",
    "            if int(d) in range(0,10):\n",
    "                train_n_x.append(pixels)\n",
    "                train_n_y.append(d)\n",
    "            elif int(d) in range(10,34):\n",
    "                train_alp_x.append(pixels)\n",
    "                train_alp_y.append(d)\n",
    "            else:\n",
    "                train_z_x.append(pixels)\n",
    "                train_z_y.append(d)\n",
    "            \n",
    "for root, ds, fs in os.walk(test_path):\n",
    "    for d in ds:\n",
    "        dir = os.path.join(root, d)\n",
    "        for l in os.listdir(dir):\n",
    "            path = os.path.join(dir, l)\n",
    "            img = Image.open(path)\n",
    "            pixels = np.array(img).reshape(-1)\n",
    "            if int(d) in range(0,10):\n",
    "                test_n_x.append(pixels)\n",
    "                test_n_y.append(d)\n",
    "            elif int(d) in range(10,34):\n",
    "                test_alp_x.append(pixels)\n",
    "                test_alp_y.append(d)\n",
    "            else:\n",
    "                test_z_x.append(pixels)\n",
    "                test_z_y.append(d)\n",
    "\n",
    "train_n_x = np.array(train_n_x)\n",
    "train_n_y = np.array(train_n_y)\n",
    "test_n_x = np.array(test_n_x)\n",
    "test_n_y = np.array(test_n_y)\n",
    "# alphabet data 10~33\n",
    "train_alp_x = np.array(train_alp_x)\n",
    "train_alp_y = np.array(train_alp_y)\n",
    "test_alp_x = np.array(test_alp_x)\n",
    "test_alp_y = np.array(test_alp_y)\n",
    "# zone data 34~65\n",
    "train_z_x = np.array(train_z_x)\n",
    "train_z_y = np.array(train_z_y)\n",
    "test_z_x = np.array(test_z_x)\n",
    "test_z_y = np.array(test_z_y)\n",
    "train_n_x.shape, train_n_y.shape, train_alp_x.shape, train_alp_y.shape, train_z_x.shape, train_z_y.shape"
   ]
  },
  {
   "cell_type": "markdown",
   "metadata": {},
   "source": [
    "### 单训练数字"
   ]
  },
  {
   "cell_type": "code",
   "execution_count": 12,
   "metadata": {},
   "outputs": [
    {
     "name": "stdout",
     "output_type": "stream",
     "text": [
      "n=1, accuracy score is : 0.989880\n",
      "n=2, accuracy score is : 0.989880\n",
      "n=3, accuracy score is : 0.988040\n",
      "n=4, accuracy score is : 0.988960\n",
      "n=5, accuracy score is : 0.988040\n",
      "n=6, accuracy score is : 0.988040\n",
      "n=7, accuracy score is : 0.986201\n",
      "n=8, accuracy score is : 0.986201\n",
      "n=9, accuracy score is : 0.986201\n",
      "n=10, accuracy score is : 0.985281\n"
     ]
    }
   ],
   "source": [
    "for i in range(1,11):\n",
    "    knn = KNeighborsClassifier(n_neighbors=i, weights = 'distance', n_jobs=-1, algorithm='kd_tree')\n",
    "    knn.fit(train_n_x,train_n_y)\n",
    "    predict_y = knn.predict(test_n_x)\n",
    "    acc = accuracy_score(predict_y, test_n_y)\n",
    "    print(\"n=%d, accuracy score is : %.6f\" %(i,acc))"
   ]
  },
  {
   "cell_type": "markdown",
   "metadata": {},
   "source": [
    "### 单训练字母"
   ]
  },
  {
   "cell_type": "code",
   "execution_count": 13,
   "metadata": {},
   "outputs": [
    {
     "name": "stdout",
     "output_type": "stream",
     "text": [
      "n=1, accuracy score is : 0.794872\n",
      "n=2, accuracy score is : 0.794872\n",
      "n=3, accuracy score is : 0.776110\n",
      "n=4, accuracy score is : 0.777048\n",
      "n=5, accuracy score is : 0.767667\n",
      "n=6, accuracy score is : 0.767667\n",
      "n=7, accuracy score is : 0.765478\n",
      "n=8, accuracy score is : 0.766104\n",
      "n=9, accuracy score is : 0.757348\n",
      "n=10, accuracy score is : 0.763290\n"
     ]
    }
   ],
   "source": [
    "for i in range(1,11):\n",
    "    knn = KNeighborsClassifier(n_neighbors=i, weights = 'distance', n_jobs=-1, algorithm='kd_tree')\n",
    "    knn.fit(train_alp_x,train_alp_y)\n",
    "    predict_y = knn.predict(test_alp_x)\n",
    "    acc = accuracy_score(predict_y, test_alp_y)\n",
    "    print(\"n=%d, accuracy score is : %.6f\" %(i,acc))"
   ]
  },
  {
   "cell_type": "markdown",
   "metadata": {},
   "source": [
    "### 单训练车牌城市区域"
   ]
  },
  {
   "cell_type": "code",
   "execution_count": 14,
   "metadata": {},
   "outputs": [
    {
     "name": "stdout",
     "output_type": "stream",
     "text": [
      "n=1, accuracy score is : 0.897368\n",
      "n=2, accuracy score is : 0.897368\n",
      "n=3, accuracy score is : 0.905263\n",
      "n=4, accuracy score is : 0.915789\n",
      "n=5, accuracy score is : 0.915789\n",
      "n=6, accuracy score is : 0.921053\n",
      "n=7, accuracy score is : 0.921053\n",
      "n=8, accuracy score is : 0.926316\n",
      "n=9, accuracy score is : 0.928947\n",
      "n=10, accuracy score is : 0.923684\n"
     ]
    }
   ],
   "source": [
    "for i in range(1,11):\n",
    "    knn = KNeighborsClassifier(n_neighbors=i, weights = 'distance', n_jobs=-1, algorithm='kd_tree')\n",
    "    knn.fit(train_z_x,train_z_y)\n",
    "    predict_y = knn.predict(test_z_x)\n",
    "    acc = accuracy_score(predict_y, test_z_y)\n",
    "    print(\"n=%d, accuracy score is : %.6f\" %(i,acc))"
   ]
  },
  {
   "cell_type": "markdown",
   "metadata": {},
   "source": [
    "通过区分输入语言，单独训练后发现，数字的识别率非常好，城市中文字的识别率也ok，但字母的识别率很低，导致整体识别率不高。   \n",
    "整体识别正确是需要以上三部分都识别正确。即3部分正确的概率相乘。   \n",
    "P(all) = P(digit) * P(letter) * P(city) = 0.99 * 0.79 * 0.90 = 0.70389   \n",
    "通过计算观察正确率与整体识别的正确率相当。  \n",
    "如果最终的计算结果想要高于0.9，则每项结果平均需要大于0.965。"
   ]
  }
 ],
 "metadata": {
  "kernelspec": {
   "display_name": "Python 3",
   "language": "python",
   "name": "python3"
  },
  "language_info": {
   "codemirror_mode": {
    "name": "ipython",
    "version": 3
   },
   "file_extension": ".py",
   "mimetype": "text/x-python",
   "name": "python",
   "nbconvert_exporter": "python",
   "pygments_lexer": "ipython3",
   "version": "3.6.12"
  }
 },
 "nbformat": 4,
 "nbformat_minor": 4
}
