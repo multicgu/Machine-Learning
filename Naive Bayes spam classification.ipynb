{
 "cells": [
  {
   "cell_type": "markdown",
   "metadata": {},
   "source": [
    "### 实验介绍\n",
    "电子邮件是互联网的一项重要服务，在大家的学习、工作和生活中会广泛使用。但是大家的邮箱常常被各种各样的垃圾邮件填充了。有统计显示，每天互联网上产生的垃圾邮件有几百亿近千亿的量级。因此，对电子邮件服务提供商来说，垃圾邮件过滤是一项重要功能。而朴素贝叶斯算法在垃圾邮件识别任务上一直表现非常好，至今仍然有很多系统在使用朴素贝叶斯算法作为基本的垃圾邮件识别算法。\n",
    "\n",
    "本次数据集来自[Trec06](https://plg.uwaterloo.ca/cgi-bin/cgiwrap/gvcormac/foo06)的中文垃圾邮件数据集，目录解压后包含三个文件夹，其中data目录下是所有的邮件（未分词），已分词好的邮件在data_cut目录下。邮件分为邮件头部分和正文部分，两部分之间一般有空行隔开。标签数据在label文件夹下，文件中每行是标签和对应的邮件路径。‘spam’表示垃圾邮件，‘ham’表示正常邮件。"
   ]
  },
  {
   "cell_type": "markdown",
   "metadata": {},
   "source": [
    "### 导入工具包"
   ]
  },
  {
   "cell_type": "code",
   "execution_count": 1,
   "metadata": {},
   "outputs": [],
   "source": [
    "'''\n",
    "提示：\n",
    "若调用已有工具包，sklearn中提供了一些可能会用到的类。\n",
    "'''\n",
    "from sklearn.feature_extraction.text import CountVectorizer, TfidfVectorizer # 提取文本特征向量的类\n",
    "from sklearn.naive_bayes import MultinomialNB, BernoulliNB, ComplementNB # 三种朴素贝叶斯算法，差别在于估计p(x|y)的方式\n",
    "import pandas as pd\n",
    "import numpy as np\n",
    "from sklearn.model_selection import train_test_split\n",
    "from sklearn.metrics import accuracy_score, confusion_matrix, classification_report, precision_recall_fscore_support"
   ]
  },
  {
   "cell_type": "code",
   "execution_count": 2,
   "metadata": {},
   "outputs": [],
   "source": [
    "df = pd.read_table('./trec06c-utf8/label/index', sep=' ', header=None, names=['target','path'])\n",
    "df['path'] = df['path'].str.replace('./data','/trec06c-utf8/data_cut')\n",
    "emails = []\n",
    "\n",
    "for i,j in df.iterrows():\n",
    "    with open(j['path'], encoding='utf-8') as f:\n",
    "        email = f.read()\n",
    "        emails.append(''.join(email.split(\"\\n\\n\",1)[1:]))"
   ]
  },
  {
   "cell_type": "markdown",
   "metadata": {},
   "source": [
    "#### 使用CoutVectorizer"
   ]
  },
  {
   "cell_type": "code",
   "execution_count": 3,
   "metadata": {},
   "outputs": [
    {
     "data": {
      "text/plain": [
       "(list, list, numpy.ndarray, numpy.ndarray)"
      ]
     },
     "execution_count": 3,
     "metadata": {},
     "output_type": "execute_result"
    }
   ],
   "source": [
    "#emails = np.array(emails)\n",
    "x_train, x_test, train_y, test_y = train_test_split(emails, df['target'].values, test_size=0.3, random_state=8)\n",
    "type(x_train), type(x_test), type(train_y), type(test_y)"
   ]
  },
  {
   "cell_type": "code",
   "execution_count": 4,
   "metadata": {},
   "outputs": [
    {
     "data": {
      "text/plain": [
       "((45234, 174116), (19386, 174116))"
      ]
     },
     "execution_count": 4,
     "metadata": {},
     "output_type": "execute_result"
    }
   ],
   "source": [
    "vectorizer = CountVectorizer()\n",
    "train_x = vectorizer.fit_transform(x_train)\n",
    "test_x = vectorizer.transform(x_test)\n",
    "train_x.shape, test_x.shape"
   ]
  },
  {
   "cell_type": "markdown",
   "metadata": {},
   "source": [
    "#### 使用BernoulliNB"
   ]
  },
  {
   "cell_type": "code",
   "execution_count": 5,
   "metadata": {},
   "outputs": [
    {
     "name": "stdout",
     "output_type": "stream",
     "text": [
      "Accuracy by BernoulliNB is : 0.941968\n",
      "[[ 6362   209]\n",
      " [  916 11899]]\n",
      "              precision    recall  f1-score   support\n",
      "\n",
      "         ham       0.87      0.97      0.92      6571\n",
      "        spam       0.98      0.93      0.95     12815\n",
      "\n",
      "    accuracy                           0.94     19386\n",
      "   macro avg       0.93      0.95      0.94     19386\n",
      "weighted avg       0.95      0.94      0.94     19386\n",
      "\n"
     ]
    }
   ],
   "source": [
    "BNB = BernoulliNB()\n",
    "BNB.fit(train_x,train_y)\n",
    "predict_y = BNB.predict(test_x)\n",
    "test_acc = accuracy_score(predict_y, test_y)\n",
    "print(\"Accuracy by BernoulliNB is : %.6f\" %(test_acc))\n",
    "print(confusion_matrix(y_true=test_y, y_pred=predict_y))\n",
    "print(classification_report(y_true=test_y, y_pred=predict_y))"
   ]
  },
  {
   "cell_type": "markdown",
   "metadata": {},
   "source": [
    "使用BernoulliNB的准确率为0.94"
   ]
  },
  {
   "cell_type": "markdown",
   "metadata": {},
   "source": [
    "#### 使用MultinomialNB"
   ]
  },
  {
   "cell_type": "code",
   "execution_count": 6,
   "metadata": {},
   "outputs": [
    {
     "name": "stdout",
     "output_type": "stream",
     "text": [
      "Accuracy by MultinomialNB is : 0.976323\n",
      "[[ 6329   242]\n",
      " [  217 12598]]\n",
      "              precision    recall  f1-score   support\n",
      "\n",
      "         ham       0.97      0.96      0.97      6571\n",
      "        spam       0.98      0.98      0.98     12815\n",
      "\n",
      "    accuracy                           0.98     19386\n",
      "   macro avg       0.97      0.97      0.97     19386\n",
      "weighted avg       0.98      0.98      0.98     19386\n",
      "\n"
     ]
    }
   ],
   "source": [
    "MNB = MultinomialNB()\n",
    "MNB.fit(train_x,train_y)\n",
    "predict_y = MNB.predict(test_x)\n",
    "test_acc = accuracy_score(predict_y, test_y)\n",
    "print(\"Accuracy by MultinomialNB is : %.6f\" %(test_acc))\n",
    "print(confusion_matrix(y_true=test_y, y_pred=predict_y))\n",
    "print(classification_report(y_true=test_y, y_pred=predict_y))"
   ]
  },
  {
   "cell_type": "markdown",
   "metadata": {},
   "source": [
    "使用BernoulliNB的准确率为0.976"
   ]
  },
  {
   "cell_type": "markdown",
   "metadata": {},
   "source": [
    "#### 使用ComplementNB"
   ]
  },
  {
   "cell_type": "code",
   "execution_count": 7,
   "metadata": {},
   "outputs": [
    {
     "name": "stdout",
     "output_type": "stream",
     "text": [
      "Accuracy by ComplementNB is : 0.970701\n",
      "[[ 6336   235]\n",
      " [  333 12482]]\n",
      "              precision    recall  f1-score   support\n",
      "\n",
      "         ham       0.95      0.96      0.96      6571\n",
      "        spam       0.98      0.97      0.98     12815\n",
      "\n",
      "    accuracy                           0.97     19386\n",
      "   macro avg       0.97      0.97      0.97     19386\n",
      "weighted avg       0.97      0.97      0.97     19386\n",
      "\n"
     ]
    }
   ],
   "source": [
    "CNB = ComplementNB()\n",
    "CNB.fit(train_x,train_y)\n",
    "predict_y = CNB.predict(test_x)\n",
    "test_acc = accuracy_score(predict_y, test_y)\n",
    "print(\"Accuracy by ComplementNB is : %.6f\" %(test_acc))\n",
    "print(confusion_matrix(y_true=test_y, y_pred=predict_y))\n",
    "print(classification_report(y_true=test_y, y_pred=predict_y))"
   ]
  },
  {
   "cell_type": "markdown",
   "metadata": {},
   "source": [
    "使用BernoulliNB的准确率为0.971\n",
    "\n",
    "MulatinomialNB 的效果最好。"
   ]
  },
  {
   "cell_type": "markdown",
   "metadata": {},
   "source": [
    "#### 使用TFIDF 逆向文档率"
   ]
  },
  {
   "cell_type": "code",
   "execution_count": 8,
   "metadata": {},
   "outputs": [
    {
     "name": "stdout",
     "output_type": "stream",
     "text": [
      "(45234, 174116) (19386, 174116)\n"
     ]
    }
   ],
   "source": [
    "tfidf_vectorizer = TfidfVectorizer()\n",
    "train_x = tfidf_vectorizer.fit_transform(x_train)\n",
    "test_x = tfidf_vectorizer.transform(x_test)\n",
    "print(train_x.shape, test_x.shape)"
   ]
  },
  {
   "cell_type": "markdown",
   "metadata": {},
   "source": [
    "#### 使用BernoulliNB"
   ]
  },
  {
   "cell_type": "code",
   "execution_count": 9,
   "metadata": {},
   "outputs": [
    {
     "name": "stdout",
     "output_type": "stream",
     "text": [
      "Accuracy by BernoulliNB in TFIDF is : 0.941968\n",
      "[[ 6362   209]\n",
      " [  916 11899]]\n",
      "              precision    recall  f1-score   support\n",
      "\n",
      "         ham       0.87      0.97      0.92      6571\n",
      "        spam       0.98      0.93      0.95     12815\n",
      "\n",
      "    accuracy                           0.94     19386\n",
      "   macro avg       0.93      0.95      0.94     19386\n",
      "weighted avg       0.95      0.94      0.94     19386\n",
      "\n"
     ]
    }
   ],
   "source": [
    "BNB = BernoulliNB()\n",
    "BNB.fit(train_x,train_y)\n",
    "predict_y = BNB.predict(test_x)\n",
    "test_acc = accuracy_score(predict_y, test_y)\n",
    "print(\"Accuracy by BernoulliNB in TFIDF is : %.6f\" %(test_acc))\n",
    "print(confusion_matrix(y_true=test_y, y_pred=predict_y))\n",
    "print(classification_report(y_true=test_y, y_pred=predict_y))"
   ]
  },
  {
   "cell_type": "markdown",
   "metadata": {},
   "source": [
    "#### 使用MultinomialNB"
   ]
  },
  {
   "cell_type": "code",
   "execution_count": 10,
   "metadata": {},
   "outputs": [
    {
     "name": "stdout",
     "output_type": "stream",
     "text": [
      "Accuracy by MultinomialNB in TFIDF is : 0.976736\n",
      "[[ 6242   329]\n",
      " [  122 12693]]\n",
      "              precision    recall  f1-score   support\n",
      "\n",
      "         ham       0.98      0.95      0.97      6571\n",
      "        spam       0.97      0.99      0.98     12815\n",
      "\n",
      "    accuracy                           0.98     19386\n",
      "   macro avg       0.98      0.97      0.97     19386\n",
      "weighted avg       0.98      0.98      0.98     19386\n",
      "\n"
     ]
    }
   ],
   "source": [
    "MNB = MultinomialNB()\n",
    "MNB.fit(train_x,train_y)\n",
    "predict_y = MNB.predict(test_x)\n",
    "test_acc = accuracy_score(test_y, predict_y)\n",
    "print(\"Accuracy by MultinomialNB in TFIDF is : %.6f\" %(test_acc))\n",
    "print(confusion_matrix(y_true=test_y, y_pred=predict_y))\n",
    "print(classification_report(y_true=test_y, y_pred=predict_y))"
   ]
  },
  {
   "cell_type": "markdown",
   "metadata": {},
   "source": [
    "#### 使用使用ComplementNB"
   ]
  },
  {
   "cell_type": "code",
   "execution_count": 11,
   "metadata": {},
   "outputs": [
    {
     "name": "stdout",
     "output_type": "stream",
     "text": [
      "Accuracy by ComplementNB in TFIDF is : 0.971784\n",
      "[[ 6305   266]\n",
      " [  281 12534]]\n",
      "              precision    recall  f1-score   support\n",
      "\n",
      "         ham       0.96      0.96      0.96      6571\n",
      "        spam       0.98      0.98      0.98     12815\n",
      "\n",
      "    accuracy                           0.97     19386\n",
      "   macro avg       0.97      0.97      0.97     19386\n",
      "weighted avg       0.97      0.97      0.97     19386\n",
      "\n"
     ]
    }
   ],
   "source": [
    "CNB = ComplementNB()\n",
    "CNB.fit(train_x,train_y)\n",
    "predict_y = CNB.predict(test_x)\n",
    "test_acc = accuracy_score(test_y, predict_y)\n",
    "print(\"Accuracy by ComplementNB in TFIDF is : %.6f\" %(test_acc))\n",
    "print(confusion_matrix(y_true=test_y, y_pred=predict_y))\n",
    "print(classification_report(y_true=test_y, y_pred=predict_y))"
   ]
  },
  {
   "cell_type": "code",
   "execution_count": 12,
   "metadata": {},
   "outputs": [
    {
     "data": {
      "text/plain": [
       "spam    42854\n",
       "ham     21766\n",
       "Name: target, dtype: int64"
      ]
     },
     "execution_count": 12,
     "metadata": {},
     "output_type": "execute_result"
    }
   ],
   "source": [
    "df['target'].value_counts()"
   ]
  },
  {
   "cell_type": "markdown",
   "metadata": {},
   "source": [
    "如上显示，由于垃圾邮件的正负例的比例不平衡，只看accuracy并不客观（会被大比例的target影响）。  \n",
    "由于对非垃圾邮件的误判有比较严格的要求，对recall的指标要重点看下（即正确预测的数量/实际预测的数量）。  \n",
    "ham的recall的指标越高，说明非垃圾邮件预测正确的占实际非垃圾邮件的比例高。  \n",
    "spam的recall的指标越高，说明垃圾邮件预测正确的占实际垃圾邮件的比例高。  \n",
    "spam的precision的指标高，说明所有预测spam的数据中真实spam的比例高。那么预测spam的分母相对较小，该值才会高，也就说明模型更倾向于判断为ham。  \n",
    "人类不太能接受ham判断为spam的情况，反而更能容忍spam判断为ham的情况。  \n",
    "综上所述，ham recall和spam precision的指标高，而spam recall的指标在可接受的范围，是我们希望的情况。  \n",
    "对比上面3个模型，BernoulliNB的，ham percision不到0.9，太低。  \n",
    "所以ComplementNB可能更符合我们的要求。  \n",
    "\n",
    "下面根据ComplementNB模型来观察max_features"
   ]
  },
  {
   "cell_type": "markdown",
   "metadata": {},
   "source": [
    "### 观察下控制max_features对结果的影响\n",
    "还是使用tfidf,使用ComplementNB，观察最大feature数,从5000~190000之间指标的变化。  \n",
    "如下数据和图片显示，随着特征数的增大，ham recall在feature numbers = 25000 左右到达最大，为0.976，之后慢慢下降.而此时的spam recall在0.958,可以接受。  \n",
    "与此同时，spam precision也为最大值，0.98。这说明模型偏向于判断为ham。\n",
    "所以在tfidf下，使用ComplementNB的情况下，feature number选择25000为我们希望的情况。"
   ]
  },
  {
   "cell_type": "code",
   "execution_count": 13,
   "metadata": {},
   "outputs": [
    {
     "name": "stdout",
     "output_type": "stream",
     "text": [
      "-------------------- 5000 --------------------\n",
      "Accuracy by ComplementNB in TFIDF is : 0.956360\n",
      "[[ 6368   203]\n",
      " [  643 12172]]\n",
      "ham recall:    0.969 | spam recall:    0.950\n",
      "ham precision: 0.908 | spam precision: 0.984\n",
      "-------------------- 10000 --------------------\n",
      "Accuracy by ComplementNB in TFIDF is : 0.959971\n",
      "[[ 6393   178]\n",
      " [  598 12217]]\n",
      "ham recall:    0.973 | spam recall:    0.953\n",
      "ham precision: 0.914 | spam precision: 0.986\n",
      "-------------------- 15000 --------------------\n",
      "Accuracy by ComplementNB in TFIDF is : 0.961312\n",
      "[[ 6401   170]\n",
      " [  580 12235]]\n",
      "ham recall:    0.974 | spam recall:    0.955\n",
      "ham precision: 0.917 | spam precision: 0.986\n",
      "-------------------- 20000 --------------------\n",
      "Accuracy by ComplementNB in TFIDF is : 0.962963\n",
      "[[ 6409   162]\n",
      " [  556 12259]]\n",
      "ham recall:    0.975 | spam recall:    0.957\n",
      "ham precision: 0.920 | spam precision: 0.987\n",
      "-------------------- 25000 --------------------\n",
      "Accuracy by ComplementNB in TFIDF is : 0.963530\n",
      "[[ 6411   160]\n",
      " [  547 12268]]\n",
      "ham recall:    0.976 | spam recall:    0.957\n",
      "ham precision: 0.921 | spam precision: 0.987\n",
      "-------------------- 30000 --------------------\n",
      "Accuracy by ComplementNB in TFIDF is : 0.964304\n",
      "[[ 6410   161]\n",
      " [  531 12284]]\n",
      "ham recall:    0.975 | spam recall:    0.959\n",
      "ham precision: 0.923 | spam precision: 0.987\n",
      "-------------------- 35000 --------------------\n",
      "Accuracy by ComplementNB in TFIDF is : 0.965491\n",
      "[[ 6411   160]\n",
      " [  509 12306]]\n",
      "ham recall:    0.976 | spam recall:    0.960\n",
      "ham precision: 0.926 | spam precision: 0.987\n",
      "-------------------- 40000 --------------------\n",
      "Accuracy by ComplementNB in TFIDF is : 0.966316\n",
      "[[ 6409   162]\n",
      " [  491 12324]]\n",
      "ham recall:    0.975 | spam recall:    0.962\n",
      "ham precision: 0.929 | spam precision: 0.987\n",
      "-------------------- 45000 --------------------\n",
      "Accuracy by ComplementNB in TFIDF is : 0.967193\n",
      "[[ 6403   168]\n",
      " [  468 12347]]\n",
      "ham recall:    0.974 | spam recall:    0.963\n",
      "ham precision: 0.932 | spam precision: 0.987\n",
      "-------------------- 50000 --------------------\n",
      "Accuracy by ComplementNB in TFIDF is : 0.967502\n",
      "[[ 6396   175]\n",
      " [  455 12360]]\n",
      "ham recall:    0.973 | spam recall:    0.964\n",
      "ham precision: 0.934 | spam precision: 0.986\n",
      "-------------------- 55000 --------------------\n",
      "Accuracy by ComplementNB in TFIDF is : 0.968947\n",
      "[[ 6394   177]\n",
      " [  425 12390]]\n",
      "ham recall:    0.973 | spam recall:    0.967\n",
      "ham precision: 0.938 | spam precision: 0.986\n",
      "-------------------- 60000 --------------------\n",
      "Accuracy by ComplementNB in TFIDF is : 0.968998\n",
      "[[ 6388   183]\n",
      " [  418 12397]]\n",
      "ham recall:    0.972 | spam recall:    0.967\n",
      "ham precision: 0.939 | spam precision: 0.985\n",
      "-------------------- 65000 --------------------\n",
      "Accuracy by ComplementNB in TFIDF is : 0.969153\n",
      "[[ 6387   184]\n",
      " [  414 12401]]\n",
      "ham recall:    0.972 | spam recall:    0.968\n",
      "ham precision: 0.939 | spam precision: 0.985\n",
      "-------------------- 70000 --------------------\n",
      "Accuracy by ComplementNB in TFIDF is : 0.969050\n",
      "[[ 6380   191]\n",
      " [  409 12406]]\n",
      "ham recall:    0.971 | spam recall:    0.968\n",
      "ham precision: 0.940 | spam precision: 0.985\n",
      "-------------------- 75000 --------------------\n",
      "Accuracy by ComplementNB in TFIDF is : 0.969153\n",
      "[[ 6375   196]\n",
      " [  402 12413]]\n",
      "ham recall:    0.970 | spam recall:    0.969\n",
      "ham precision: 0.941 | spam precision: 0.984\n",
      "-------------------- 80000 --------------------\n",
      "Accuracy by ComplementNB in TFIDF is : 0.969411\n",
      "[[ 6372   199]\n",
      " [  394 12421]]\n",
      "ham recall:    0.970 | spam recall:    0.969\n",
      "ham precision: 0.942 | spam precision: 0.984\n",
      "-------------------- 85000 --------------------\n",
      "Accuracy by ComplementNB in TFIDF is : 0.969411\n",
      "[[ 6368   203]\n",
      " [  390 12425]]\n",
      "ham recall:    0.969 | spam recall:    0.970\n",
      "ham precision: 0.942 | spam precision: 0.984\n",
      "-------------------- 90000 --------------------\n",
      "Accuracy by ComplementNB in TFIDF is : 0.969359\n",
      "[[ 6364   207]\n",
      " [  387 12428]]\n",
      "ham recall:    0.968 | spam recall:    0.970\n",
      "ham precision: 0.943 | spam precision: 0.984\n",
      "-------------------- 95000 --------------------\n",
      "Accuracy by ComplementNB in TFIDF is : 0.969514\n",
      "[[ 6363   208]\n",
      " [  383 12432]]\n",
      "ham recall:    0.968 | spam recall:    0.970\n",
      "ham precision: 0.943 | spam precision: 0.984\n",
      "-------------------- 100000 --------------------\n",
      "Accuracy by ComplementNB in TFIDF is : 0.970133\n",
      "[[ 6359   212]\n",
      " [  367 12448]]\n",
      "ham recall:    0.968 | spam recall:    0.971\n",
      "ham precision: 0.945 | spam precision: 0.983\n",
      "-------------------- 105000 --------------------\n",
      "Accuracy by ComplementNB in TFIDF is : 0.970236\n",
      "[[ 6359   212]\n",
      " [  365 12450]]\n",
      "ham recall:    0.968 | spam recall:    0.972\n",
      "ham precision: 0.946 | spam precision: 0.983\n",
      "-------------------- 110000 --------------------\n",
      "Accuracy by ComplementNB in TFIDF is : 0.970546\n",
      "[[ 6354   217]\n",
      " [  354 12461]]\n",
      "ham recall:    0.967 | spam recall:    0.972\n",
      "ham precision: 0.947 | spam precision: 0.983\n",
      "-------------------- 115000 --------------------\n",
      "Accuracy by ComplementNB in TFIDF is : 0.970752\n",
      "[[ 6350   221]\n",
      " [  346 12469]]\n",
      "ham recall:    0.966 | spam recall:    0.973\n",
      "ham precision: 0.948 | spam precision: 0.983\n",
      "-------------------- 120000 --------------------\n",
      "Accuracy by ComplementNB in TFIDF is : 0.970752\n",
      "[[ 6342   229]\n",
      " [  338 12477]]\n",
      "ham recall:    0.965 | spam recall:    0.974\n",
      "ham precision: 0.949 | spam precision: 0.982\n",
      "-------------------- 125000 --------------------\n",
      "Accuracy by ComplementNB in TFIDF is : 0.970907\n",
      "[[ 6338   233]\n",
      " [  331 12484]]\n",
      "ham recall:    0.965 | spam recall:    0.974\n",
      "ham precision: 0.950 | spam precision: 0.982\n",
      "-------------------- 130000 --------------------\n",
      "Accuracy by ComplementNB in TFIDF is : 0.971010\n",
      "[[ 6337   234]\n",
      " [  328 12487]]\n",
      "ham recall:    0.964 | spam recall:    0.974\n",
      "ham precision: 0.951 | spam precision: 0.982\n",
      "-------------------- 135000 --------------------\n",
      "Accuracy by ComplementNB in TFIDF is : 0.971062\n",
      "[[ 6335   236]\n",
      " [  325 12490]]\n",
      "ham recall:    0.964 | spam recall:    0.975\n",
      "ham precision: 0.951 | spam precision: 0.981\n",
      "-------------------- 140000 --------------------\n",
      "Accuracy by ComplementNB in TFIDF is : 0.971010\n",
      "[[ 6330   241]\n",
      " [  321 12494]]\n",
      "ham recall:    0.963 | spam recall:    0.975\n",
      "ham precision: 0.952 | spam precision: 0.981\n",
      "-------------------- 145000 --------------------\n",
      "Accuracy by ComplementNB in TFIDF is : 0.971320\n",
      "[[ 6328   243]\n",
      " [  313 12502]]\n",
      "ham recall:    0.963 | spam recall:    0.976\n",
      "ham precision: 0.953 | spam precision: 0.981\n",
      "-------------------- 150000 --------------------\n",
      "Accuracy by ComplementNB in TFIDF is : 0.972403\n",
      "[[ 6325   246]\n",
      " [  289 12526]]\n",
      "ham recall:    0.963 | spam recall:    0.977\n",
      "ham precision: 0.956 | spam precision: 0.981\n",
      "-------------------- 155000 --------------------\n",
      "Accuracy by ComplementNB in TFIDF is : 0.972248\n",
      "[[ 6320   251]\n",
      " [  287 12528]]\n",
      "ham recall:    0.962 | spam recall:    0.978\n",
      "ham precision: 0.957 | spam precision: 0.980\n",
      "-------------------- 160000 --------------------\n",
      "Accuracy by ComplementNB in TFIDF is : 0.972042\n",
      "[[ 6315   256]\n",
      " [  286 12529]]\n",
      "ham recall:    0.961 | spam recall:    0.978\n",
      "ham precision: 0.957 | spam precision: 0.980\n",
      "-------------------- 165000 --------------------\n",
      "Accuracy by ComplementNB in TFIDF is : 0.971887\n",
      "[[ 6309   262]\n",
      " [  283 12532]]\n",
      "ham recall:    0.960 | spam recall:    0.978\n",
      "ham precision: 0.957 | spam precision: 0.980\n",
      "-------------------- 170000 --------------------\n",
      "Accuracy by ComplementNB in TFIDF is : 0.971732\n",
      "[[ 6305   266]\n",
      " [  282 12533]]\n",
      "ham recall:    0.960 | spam recall:    0.978\n",
      "ham precision: 0.957 | spam precision: 0.979\n",
      "-------------------- 175000 --------------------\n",
      "Accuracy by ComplementNB in TFIDF is : 0.971784\n",
      "[[ 6305   266]\n",
      " [  281 12534]]\n",
      "ham recall:    0.960 | spam recall:    0.978\n",
      "ham precision: 0.957 | spam precision: 0.979\n",
      "-------------------- 180000 --------------------\n",
      "Accuracy by ComplementNB in TFIDF is : 0.971784\n",
      "[[ 6305   266]\n",
      " [  281 12534]]\n",
      "ham recall:    0.960 | spam recall:    0.978\n",
      "ham precision: 0.957 | spam precision: 0.979\n",
      "-------------------- 185000 --------------------\n",
      "Accuracy by ComplementNB in TFIDF is : 0.971784\n",
      "[[ 6305   266]\n",
      " [  281 12534]]\n",
      "ham recall:    0.960 | spam recall:    0.978\n",
      "ham precision: 0.957 | spam precision: 0.979\n",
      "-------------------- 190000 --------------------\n",
      "Accuracy by ComplementNB in TFIDF is : 0.971784\n",
      "[[ 6305   266]\n",
      " [  281 12534]]\n",
      "ham recall:    0.960 | spam recall:    0.978\n",
      "ham precision: 0.957 | spam precision: 0.979\n"
     ]
    }
   ],
   "source": [
    "spam_recall = []\n",
    "ham_recall = []\n",
    "spam_pre, ham_pre = [],[]\n",
    "for i in range(5000,190001,5000):\n",
    "    tfidf_vectorizer = TfidfVectorizer(max_features=i)\n",
    "    train_x = tfidf_vectorizer.fit_transform(x_train)\n",
    "    test_x = tfidf_vectorizer.transform(x_test)\n",
    "\n",
    "    #train_x, test_x, train_y, test_y = train_test_split(X, df['target'].values, test_size=0.2, random_state=8)\n",
    "    CNB = ComplementNB()\n",
    "    CNB.fit(train_x,train_y)\n",
    "    predict_y = CNB.predict(test_x)\n",
    "    test_acc = accuracy_score(test_y, predict_y)\n",
    "    print('-'*20 ,i, '-'*20)\n",
    "    print(\"Accuracy by ComplementNB in TFIDF is : %.6f\" %(test_acc))\n",
    "    print(confusion_matrix(y_true=test_y, y_pred=predict_y))\n",
    "    pre, rec, f1, sup = precision_recall_fscore_support(test_y, predict_y)\n",
    "    print('ham recall:    %.3f | spam recall:    %.3f' %(rec[0],rec[1]))\n",
    "    print('ham precision: %.3f | spam precision: %.3f' %(pre[0],pre[1]))\n",
    "    ham_recall.append(rec[0])\n",
    "    spam_recall.append(rec[1])\n",
    "    ham_pre.append(pre[0])\n",
    "    spam_pre.append(pre[1])\n",
    "    #print(classification_report(y_true=test_y, y_pred=predict_y))"
   ]
  },
  {
   "cell_type": "code",
   "execution_count": 15,
   "metadata": {},
   "outputs": [
    {
     "name": "stdout",
     "output_type": "stream",
     "text": [
      "[  5000  10000  15000  20000  25000  30000  35000  40000  45000  50000\n",
      "  55000  60000  65000  70000  75000  80000  85000  90000  95000 100000\n",
      " 105000 110000 115000 120000 125000 130000 135000 140000 145000 150000\n",
      " 155000 160000 165000 170000 175000 180000 185000 190000]\n"
     ]
    },
    {
     "data": {
      "image/png": "[encoded data removed]",
      "text/plain": [
       "<Figure size 432x288 with 1 Axes>"
      ]
     },
     "metadata": {},
     "output_type": "display_data"
    },
    {
     "name": "stdout",
     "output_type": "stream",
     "text": [
      "[0.9691066808704916, 0.9729112768224014, 0.9741287475270126, 0.9753462182316238, 0.9756505859077766, 0.9754984020697002, 0.9756505859077766, 0.9753462182316238, 0.9744331152031654, 0.9733678283366306, 0.9730634606604779, 0.9721503576320195, 0.971998173793943, 0.9709328869274083, 0.9701719677370263, 0.9697154162227971, 0.9691066808704916, 0.968497945518186, 0.9683457616801096, 0.967737026327804, 0.967737026327804, 0.966976107137422, 0.9663673717851164, 0.9651499010805052, 0.9645411657281997, 0.9643889818901232, 0.9640846142139705, 0.9633236950235885, 0.9630193273474357, 0.9625627758332065, 0.9618018566428246, 0.9610409374524426, 0.9601278344239842, 0.9595190990716785, 0.9595190990716785, 0.9595190990716785, 0.9595190990716785, 0.9595190990716785]\n"
     ]
    }
   ],
   "source": [
    "import seaborn as sns\n",
    "import matplotlib.pyplot as plt\n",
    "sns.set()\n",
    "x = np.arange(5000,190001,5000)\n",
    "print(x)\n",
    "plt.plot(x, ham_recall,'.-', label='ham_recall')\n",
    "plt.plot(x, spam_recall, '.-', label='spam_recall')\n",
    "#plt.xticks(x)\n",
    "plt.xlabel('feature numbers')\n",
    "plt.legend()\n",
    "plt.show()\n",
    "print(ham_recall)"
   ]
  },
  {
   "cell_type": "code",
   "execution_count": 22,
   "metadata": {},
   "outputs": [
    {
     "name": "stdout",
     "output_type": "stream",
     "text": [
      "[ 20000  30000  40000  50000  60000  70000  80000  90000 100000 110000\n",
      " 120000 130000 140000 150000 160000 170000 180000 190000]\n"
     ]
    },
    {
     "data": {
      "image/png": "[encoded data removed]",
      "text/plain": [
       "<Figure size 432x288 with 1 Axes>"
      ]
     },
     "metadata": {},
     "output_type": "display_data"
    },
    {
     "name": "stdout",
     "output_type": "stream",
     "text": [
      "[0.9762819064829455, 0.9756042466681726, 0.9756042466681726, 0.9751524734583239, 0.9747007002484752, 0.973797153828778, 0.973797153828778, 0.9726677208041563, 0.9717641743844591, 0.9706347413598374, 0.9690535351253671, 0.9672464422859725, 0.9663428958662751, 0.9656652360515021, 0.9654393494465778, 0.9645358030268805, 0.9634063700022588, 0.9618251637677886]\n"
     ]
    }
   ],
   "source": [
    "'''\n",
    "import seaborn as sns\n",
    "import matplotlib.pyplot as plt\n",
    "sns.set()\n",
    "x = np.arange(20000,190001,5000)\n",
    "print(x)\n",
    "plt.plot(x, ham_recall,'.-', label='ham_recall')\n",
    "plt.plot(x, spam_recall, '.-', label='spam_recall')\n",
    "#plt.xticks(x)\n",
    "plt.xlabel('feature numbers')\n",
    "plt.legend()\n",
    "plt.show()\n",
    "print(ham_recall)\n",
    "'''"
   ]
  },
  {
   "cell_type": "markdown",
   "metadata": {},
   "source": [
    "下面我们尝试调整n-gram。\n",
    "### 尝试控制n元语法，来分析最后的指标\n",
    "当ngram=(1,2)时，在不指定max_features时，总共有1887779个维度。  \n",
    "先比较与ngram=(1,1)时，max_features需要调大才会有比较好的效果。  \n",
    "根据调试，  \n",
    "当max_features=100000时，spam precision=100%，即在所有预测为spam的数量里，几乎所有的预测都正确，而ham percision=92%，并不高。  \n",
    "说明模型偏向于将邮件判断为ham，因为总体预测为ham数量增加了，ham percision才有可能不高。而spam precision很高说明总体预测为spam很保守！  \n",
    "该参数值为我们希望的值。"
   ]
  },
  {
   "cell_type": "code",
   "execution_count": 16,
   "metadata": {},
   "outputs": [
    {
     "name": "stdout",
     "output_type": "stream",
     "text": [
      "(45234, 100000)\n",
      "Accuracy by ComplementNB in TFIDF is : 0.968018\n",
      "[[ 6510    61]\n",
      " [  559 12256]]\n",
      "              precision    recall  f1-score   support\n",
      "\n",
      "         ham       0.92      0.99      0.95      6571\n",
      "        spam       1.00      0.96      0.98     12815\n",
      "\n",
      "    accuracy                           0.97     19386\n",
      "   macro avg       0.96      0.97      0.96     19386\n",
      "weighted avg       0.97      0.97      0.97     19386\n",
      "\n"
     ]
    }
   ],
   "source": [
    "tfidf_vectorizer = TfidfVectorizer(max_features=100000, ngram_range=(1,2))\n",
    "train_x = tfidf_vectorizer.fit_transform(x_train)\n",
    "test_x = tfidf_vectorizer.transform(x_test)\n",
    "#train_x, test_x, train_y, test_y = train_test_split(X, df['target'].values, test_size=0.2, random_state=8)\n",
    "print(train_x.shape) #test_x.shape train_y.shape test_y.shape\n",
    "CNB = ComplementNB()\n",
    "CNB.fit(train_x,train_y)\n",
    "predict_y = CNB.predict(test_x)\n",
    "test_acc = accuracy_score(test_y, predict_y)\n",
    "print(\"Accuracy by ComplementNB in TFIDF is : %.6f\" %(test_acc))\n",
    "print(confusion_matrix(y_true=test_y, y_pred=predict_y))\n",
    "print(classification_report(y_true=test_y, y_pred=predict_y))"
   ]
  },
  {
   "cell_type": "code",
   "execution_count": 17,
   "metadata": {},
   "outputs": [
    {
     "data": {
      "text/plain": [
       "(45234, 1772122)"
      ]
     },
     "execution_count": 17,
     "metadata": {},
     "output_type": "execute_result"
    }
   ],
   "source": [
    "tfidf_vectorizer = TfidfVectorizer( ngram_range=(1,2))\n",
    "X = tfidf_vectorizer.fit_transform(x_train)\n",
    "X.shape"
   ]
  },
  {
   "cell_type": "markdown",
   "metadata": {},
   "source": [
    "### 尝试 SVM\n",
    "\n",
    "使用TFIDF后的词向量，先是线性模型。"
   ]
  },
  {
   "cell_type": "code",
   "execution_count": 18,
   "metadata": {},
   "outputs": [],
   "source": [
    "from sklearn.svm import SVC\n",
    "svm = SVC(kernel = 'linear', C = 0.8, random_state = 8)\n",
    "svm.fit(train_x, train_y)\n",
    "p_y = svm.predict(test_x)"
   ]
  },
  {
   "cell_type": "code",
   "execution_count": 19,
   "metadata": {},
   "outputs": [
    {
     "name": "stdout",
     "output_type": "stream",
     "text": [
      "Accuracy by linear SVM in TFIDF is : 0.995254\n",
      "              precision    recall  f1-score   support\n",
      "\n",
      "         ham       0.99      0.99      0.99      6571\n",
      "        spam       1.00      1.00      1.00     12815\n",
      "\n",
      "    accuracy                           1.00     19386\n",
      "   macro avg       1.00      0.99      0.99     19386\n",
      "weighted avg       1.00      1.00      1.00     19386\n",
      "\n"
     ]
    }
   ],
   "source": [
    "test_acc = accuracy_score(test_y, p_y)\n",
    "print(\"Accuracy by linear SVM in TFIDF is : %.6f\" %(test_acc))\n",
    "print(classification_report(y_true=test_y, y_pred=p_y))"
   ]
  },
  {
   "cell_type": "markdown",
   "metadata": {},
   "source": [
    "SVM的线性模型在垃圾邮件处理的表现很优秀。\n",
    "\n",
    "再尝试使用非线性模型。\n",
    "kernel = rbf"
   ]
  },
  {
   "cell_type": "code",
   "execution_count": 20,
   "metadata": {},
   "outputs": [],
   "source": [
    "svm_rbf = SVC(kernel = 'rbf', C = 0.8, random_state = 8, gamma = 'auto')\n",
    "svm_rbf.fit(train_x, train_y)\n",
    "p_y_rbf = svm_rbf.predict(test_x)"
   ]
  },
  {
   "cell_type": "code",
   "execution_count": 21,
   "metadata": {},
   "outputs": [
    {
     "name": "stdout",
     "output_type": "stream",
     "text": [
      "Accuracy by linear SVM of rbf in TFIDF is : 0.661044\n"
     ]
    },
    {
     "name": "stderr",
     "output_type": "stream",
     "text": [
      "C:\\ProgramData\\Anaconda3\\lib\\site-packages\\sklearn\\metrics\\classification.py:1437: UndefinedMetricWarning: Precision and F-score are ill-defined and being set to 0.0 in labels with no predicted samples.\n",
      "  'precision', 'predicted', average, warn_for)\n"
     ]
    },
    {
     "name": "stdout",
     "output_type": "stream",
     "text": [
      "              precision    recall  f1-score   support\n",
      "\n",
      "         ham       0.00      0.00      0.00      6571\n",
      "        spam       0.66      1.00      0.80     12815\n",
      "\n",
      "    accuracy                           0.66     19386\n",
      "   macro avg       0.33      0.50      0.40     19386\n",
      "weighted avg       0.44      0.66      0.53     19386\n",
      "\n"
     ]
    }
   ],
   "source": [
    "test_acc = accuracy_score(test_y, p_y_rbf)\n",
    "print(\"Accuracy by linear SVM of rbf in TFIDF is : %.6f\" %(test_acc))\n",
    "print(classification_report(y_true=test_y, y_pred=p_y_rbf))"
   ]
  },
  {
   "cell_type": "markdown",
   "metadata": {},
   "source": [
    "kernel = poly"
   ]
  },
  {
   "cell_type": "code",
   "execution_count": 23,
   "metadata": {},
   "outputs": [
    {
     "name": "stderr",
     "output_type": "stream",
     "text": [
      "C:\\ProgramData\\Anaconda3\\lib\\site-packages\\sklearn\\svm\\base.py:193: FutureWarning: The default value of gamma will change from 'auto' to 'scale' in version 0.22 to account better for unscaled features. Set gamma explicitly to 'auto' or 'scale' to avoid this warning.\n",
      "  \"avoid this warning.\", FutureWarning)\n"
     ]
    }
   ],
   "source": [
    "svm_poly = SVC(kernel = 'poly', C = 0.8, random_state = 8)\n",
    "svm_poly.fit(train_x, train_y)\n",
    "p_y_poly = svm_poly.predict(test_x)"
   ]
  },
  {
   "cell_type": "code",
   "execution_count": 24,
   "metadata": {},
   "outputs": [
    {
     "name": "stdout",
     "output_type": "stream",
     "text": [
      "Accuracy by linear SVM of poly in TFIDF is : 0.661044\n"
     ]
    },
    {
     "name": "stderr",
     "output_type": "stream",
     "text": [
      "C:\\ProgramData\\Anaconda3\\lib\\site-packages\\sklearn\\metrics\\classification.py:1437: UndefinedMetricWarning: Precision and F-score are ill-defined and being set to 0.0 in labels with no predicted samples.\n",
      "  'precision', 'predicted', average, warn_for)\n"
     ]
    },
    {
     "name": "stdout",
     "output_type": "stream",
     "text": [
      "              precision    recall  f1-score   support\n",
      "\n",
      "         ham       0.00      0.00      0.00      6571\n",
      "        spam       0.66      1.00      0.80     12815\n",
      "\n",
      "    accuracy                           0.66     19386\n",
      "   macro avg       0.33      0.50      0.40     19386\n",
      "weighted avg       0.44      0.66      0.53     19386\n",
      "\n"
     ]
    }
   ],
   "source": [
    "test_acc = accuracy_score(test_y, p_y_poly)\n",
    "print(\"Accuracy by linear SVM of poly in TFIDF is : %.6f\" %(test_acc))\n",
    "print(classification_report(y_true=test_y, y_pred=p_y_poly))"
   ]
  },
  {
   "cell_type": "markdown",
   "metadata": {},
   "source": [
    "kernel = sigmod"
   ]
  },
  {
   "cell_type": "code",
   "execution_count": 27,
   "metadata": {},
   "outputs": [
    {
     "name": "stderr",
     "output_type": "stream",
     "text": [
      "C:\\ProgramData\\Anaconda3\\lib\\site-packages\\sklearn\\svm\\base.py:193: FutureWarning: The default value of gamma will change from 'auto' to 'scale' in version 0.22 to account better for unscaled features. Set gamma explicitly to 'auto' or 'scale' to avoid this warning.\n",
      "  \"avoid this warning.\", FutureWarning)\n"
     ]
    }
   ],
   "source": [
    "svm_sigmoid = SVC(kernel = 'sigmoid', C = 0.8, random_state = 8)\n",
    "svm_sigmoid.fit(train_x, train_y)\n",
    "p_y_sigmoid = svm_sigmoid.predict(test_x)"
   ]
  },
  {
   "cell_type": "code",
   "execution_count": 28,
   "metadata": {},
   "outputs": [
    {
     "name": "stdout",
     "output_type": "stream",
     "text": [
      "Accuracy by linear SVM of poly in TFIDF is : 0.661044\n"
     ]
    },
    {
     "name": "stderr",
     "output_type": "stream",
     "text": [
      "C:\\ProgramData\\Anaconda3\\lib\\site-packages\\sklearn\\metrics\\classification.py:1437: UndefinedMetricWarning: Precision and F-score are ill-defined and being set to 0.0 in labels with no predicted samples.\n",
      "  'precision', 'predicted', average, warn_for)\n"
     ]
    },
    {
     "name": "stdout",
     "output_type": "stream",
     "text": [
      "              precision    recall  f1-score   support\n",
      "\n",
      "         ham       0.00      0.00      0.00      6571\n",
      "        spam       0.66      1.00      0.80     12815\n",
      "\n",
      "    accuracy                           0.66     19386\n",
      "   macro avg       0.33      0.50      0.40     19386\n",
      "weighted avg       0.44      0.66      0.53     19386\n",
      "\n"
     ]
    }
   ],
   "source": [
    "test_acc = accuracy_score(test_y, p_y_poly)\n",
    "print(\"Accuracy by linear SVM of poly in TFIDF is : %.6f\" %(test_acc))\n",
    "print(classification_report(y_true=test_y, y_pred=p_y_poly))"
   ]
  }
 ],
 "metadata": {
  "kernelspec": {
   "display_name": "Python 3",
   "language": "python",
   "name": "python3"
  },
  "language_info": {
   "codemirror_mode": {
    "name": "ipython",
    "version": 3
   },
   "file_extension": ".py",
   "mimetype": "text/x-python",
   "name": "python",
   "nbconvert_exporter": "python",
   "pygments_lexer": "ipython3",
   "version": "3.6.12"
  }
 },
 "nbformat": 4,
 "nbformat_minor": 4
}
