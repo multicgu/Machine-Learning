{
 "cells": [
  {
   "cell_type": "markdown",
   "metadata": {},
   "source": [
    "# 基于回归分析的大学综合得分预测\n",
    "---\n",
    "\n",
    "## 一、案例简介\n",
    "大学排名是一个非常重要同时也极富挑战性与争议性的问题，一所大学的综合实力涉及科研、师资、学生等方方面面。目前全球有上百家评估机构会评估大学的综合得分进行排序，而这些机构的打分也往往并不一致。在这些评分机构中，世界大学排名中心（Center for World University Rankings，缩写CWUR）以评估教育质量、校友就业、研究成果和引用，而非依赖于调查和大学所提交的数据著称，是非常有影响力的一个。\n",
    "\n",
    "我们将根据 CWUR 所提供的世界各地知名大学各方面的排名（师资、科研等），一方面通过数据可视化的方式观察不同大学的特点，另一方面希望构建机器学习模型（线性回归）预测一所大学的综合得分。"
   ]
  },
  {
   "cell_type": "markdown",
   "metadata": {},
   "source": [
    "使用来自 Kaggle 的[数据](https://www.kaggle.com/mylesoneill/world-university-rankings?select=cwurData.csv)，构建「线性回归」模型，根据大学各项指标的排名预测综合得分。"
   ]
  },
  {
   "cell_type": "markdown",
   "metadata": {},
   "source": [
    "## 三、数据概览"
   ]
  },
  {
   "cell_type": "code",
   "execution_count": 1,
   "metadata": {},
   "outputs": [
    {
     "data": {
      "text/html": [
       "<div>\n",
       "<style scoped>\n",
       "    .dataframe tbody tr th:only-of-type {\n",
       "        vertical-align: middle;\n",
       "    }\n",
       "\n",
       "    .dataframe tbody tr th {\n",
       "        vertical-align: top;\n",
       "    }\n",
       "\n",
       "    .dataframe thead th {\n",
       "        text-align: right;\n",
       "    }\n",
       "</style>\n",
       "<table border=\"1\" class=\"dataframe\">\n",
       "  <thead>\n",
       "    <tr style=\"text-align: right;\">\n",
       "      <th></th>\n",
       "      <th>0</th>\n",
       "      <th>1</th>\n",
       "      <th>2</th>\n",
       "    </tr>\n",
       "  </thead>\n",
       "  <tbody>\n",
       "    <tr>\n",
       "      <th>world_rank</th>\n",
       "      <td>1</td>\n",
       "      <td>2</td>\n",
       "      <td>3</td>\n",
       "    </tr>\n",
       "    <tr>\n",
       "      <th>institution</th>\n",
       "      <td>Harvard University</td>\n",
       "      <td>Massachusetts Institute of Technology</td>\n",
       "      <td>Stanford University</td>\n",
       "    </tr>\n",
       "    <tr>\n",
       "      <th>region</th>\n",
       "      <td>USA</td>\n",
       "      <td>USA</td>\n",
       "      <td>USA</td>\n",
       "    </tr>\n",
       "    <tr>\n",
       "      <th>national_rank</th>\n",
       "      <td>1</td>\n",
       "      <td>2</td>\n",
       "      <td>3</td>\n",
       "    </tr>\n",
       "    <tr>\n",
       "      <th>quality_of_education</th>\n",
       "      <td>7</td>\n",
       "      <td>9</td>\n",
       "      <td>17</td>\n",
       "    </tr>\n",
       "    <tr>\n",
       "      <th>alumni_employment</th>\n",
       "      <td>9</td>\n",
       "      <td>17</td>\n",
       "      <td>11</td>\n",
       "    </tr>\n",
       "    <tr>\n",
       "      <th>quality_of_faculty</th>\n",
       "      <td>1</td>\n",
       "      <td>3</td>\n",
       "      <td>5</td>\n",
       "    </tr>\n",
       "    <tr>\n",
       "      <th>publications</th>\n",
       "      <td>1</td>\n",
       "      <td>12</td>\n",
       "      <td>4</td>\n",
       "    </tr>\n",
       "    <tr>\n",
       "      <th>influence</th>\n",
       "      <td>1</td>\n",
       "      <td>4</td>\n",
       "      <td>2</td>\n",
       "    </tr>\n",
       "    <tr>\n",
       "      <th>citations</th>\n",
       "      <td>1</td>\n",
       "      <td>4</td>\n",
       "      <td>2</td>\n",
       "    </tr>\n",
       "    <tr>\n",
       "      <th>broad_impact</th>\n",
       "      <td>NaN</td>\n",
       "      <td>NaN</td>\n",
       "      <td>NaN</td>\n",
       "    </tr>\n",
       "    <tr>\n",
       "      <th>patents</th>\n",
       "      <td>5</td>\n",
       "      <td>1</td>\n",
       "      <td>15</td>\n",
       "    </tr>\n",
       "    <tr>\n",
       "      <th>score</th>\n",
       "      <td>100</td>\n",
       "      <td>91.67</td>\n",
       "      <td>89.5</td>\n",
       "    </tr>\n",
       "    <tr>\n",
       "      <th>year</th>\n",
       "      <td>2012</td>\n",
       "      <td>2012</td>\n",
       "      <td>2012</td>\n",
       "    </tr>\n",
       "  </tbody>\n",
       "</table>\n",
       "</div>"
      ],
      "text/plain": [
       "                                       0  \\\n",
       "world_rank                             1   \n",
       "institution           Harvard University   \n",
       "region                               USA   \n",
       "national_rank                          1   \n",
       "quality_of_education                   7   \n",
       "alumni_employment                      9   \n",
       "quality_of_faculty                     1   \n",
       "publications                           1   \n",
       "influence                              1   \n",
       "citations                              1   \n",
       "broad_impact                         NaN   \n",
       "patents                                5   \n",
       "score                                100   \n",
       "year                                2012   \n",
       "\n",
       "                                                          1  \\\n",
       "world_rank                                                2   \n",
       "institution           Massachusetts Institute of Technology   \n",
       "region                                                  USA   \n",
       "national_rank                                             2   \n",
       "quality_of_education                                      9   \n",
       "alumni_employment                                        17   \n",
       "quality_of_faculty                                        3   \n",
       "publications                                             12   \n",
       "influence                                                 4   \n",
       "citations                                                 4   \n",
       "broad_impact                                            NaN   \n",
       "patents                                                   1   \n",
       "score                                                 91.67   \n",
       "year                                                   2012   \n",
       "\n",
       "                                        2  \n",
       "world_rank                              3  \n",
       "institution           Stanford University  \n",
       "region                                USA  \n",
       "national_rank                           3  \n",
       "quality_of_education                   17  \n",
       "alumni_employment                      11  \n",
       "quality_of_faculty                      5  \n",
       "publications                            4  \n",
       "influence                               2  \n",
       "citations                               2  \n",
       "broad_impact                          NaN  \n",
       "patents                                15  \n",
       "score                                89.5  \n",
       "year                                 2012  "
      ]
     },
     "execution_count": 1,
     "metadata": {},
     "output_type": "execute_result"
    }
   ],
   "source": [
    "import pandas as pd\n",
    "import numpy as np\n",
    "\n",
    "data_df = pd.read_csv('./cwurData.csv')  # 读入 csv 文件为 pandas 的 DataFrame\n",
    "data_df.head(3).T  # 观察前几列并转置方便观察"
   ]
  },
  {
   "cell_type": "markdown",
   "metadata": {},
   "source": [
    "去除其中包含 NaN 的数据，保留 2000 条有效记录。"
   ]
  },
  {
   "cell_type": "code",
   "execution_count": 2,
   "metadata": {},
   "outputs": [
    {
     "data": {
      "text/plain": [
       "2000"
      ]
     },
     "execution_count": 2,
     "metadata": {},
     "output_type": "execute_result"
    }
   ],
   "source": [
    "data_df = data_df.dropna()  # 舍去包含 NaN 的 row\n",
    "len(data_df)"
   ]
  },
  {
   "cell_type": "markdown",
   "metadata": {},
   "source": [
    "取出对应自变量以及因变量的列，之后就可以基于此切分训练集和测试集，并进行模型构建与分析。"
   ]
  },
  {
   "cell_type": "code",
   "execution_count": 3,
   "metadata": {},
   "outputs": [
    {
     "data": {
      "text/html": [
       "<div>\n",
       "<style scoped>\n",
       "    .dataframe tbody tr th:only-of-type {\n",
       "        vertical-align: middle;\n",
       "    }\n",
       "\n",
       "    .dataframe tbody tr th {\n",
       "        vertical-align: top;\n",
       "    }\n",
       "\n",
       "    .dataframe thead th {\n",
       "        text-align: right;\n",
       "    }\n",
       "</style>\n",
       "<table border=\"1\" class=\"dataframe\">\n",
       "  <thead>\n",
       "    <tr style=\"text-align: right;\">\n",
       "      <th></th>\n",
       "      <th>quality_of_faculty</th>\n",
       "      <th>publications</th>\n",
       "      <th>citations</th>\n",
       "      <th>alumni_employment</th>\n",
       "      <th>influence</th>\n",
       "      <th>quality_of_education</th>\n",
       "      <th>broad_impact</th>\n",
       "      <th>patents</th>\n",
       "    </tr>\n",
       "  </thead>\n",
       "  <tbody>\n",
       "    <tr>\n",
       "      <th>200</th>\n",
       "      <td>1</td>\n",
       "      <td>1</td>\n",
       "      <td>1</td>\n",
       "      <td>1</td>\n",
       "      <td>1</td>\n",
       "      <td>1</td>\n",
       "      <td>1.0</td>\n",
       "      <td>2</td>\n",
       "    </tr>\n",
       "    <tr>\n",
       "      <th>201</th>\n",
       "      <td>4</td>\n",
       "      <td>5</td>\n",
       "      <td>3</td>\n",
       "      <td>2</td>\n",
       "      <td>3</td>\n",
       "      <td>11</td>\n",
       "      <td>4.0</td>\n",
       "      <td>6</td>\n",
       "    </tr>\n",
       "    <tr>\n",
       "      <th>202</th>\n",
       "      <td>2</td>\n",
       "      <td>15</td>\n",
       "      <td>2</td>\n",
       "      <td>11</td>\n",
       "      <td>2</td>\n",
       "      <td>3</td>\n",
       "      <td>2.0</td>\n",
       "      <td>1</td>\n",
       "    </tr>\n",
       "    <tr>\n",
       "      <th>203</th>\n",
       "      <td>5</td>\n",
       "      <td>10</td>\n",
       "      <td>12</td>\n",
       "      <td>10</td>\n",
       "      <td>9</td>\n",
       "      <td>2</td>\n",
       "      <td>13.0</td>\n",
       "      <td>48</td>\n",
       "    </tr>\n",
       "    <tr>\n",
       "      <th>204</th>\n",
       "      <td>10</td>\n",
       "      <td>11</td>\n",
       "      <td>11</td>\n",
       "      <td>12</td>\n",
       "      <td>12</td>\n",
       "      <td>7</td>\n",
       "      <td>12.0</td>\n",
       "      <td>16</td>\n",
       "    </tr>\n",
       "    <tr>\n",
       "      <th>...</th>\n",
       "      <td>...</td>\n",
       "      <td>...</td>\n",
       "      <td>...</td>\n",
       "      <td>...</td>\n",
       "      <td>...</td>\n",
       "      <td>...</td>\n",
       "      <td>...</td>\n",
       "      <td>...</td>\n",
       "    </tr>\n",
       "    <tr>\n",
       "      <th>2195</th>\n",
       "      <td>218</td>\n",
       "      <td>926</td>\n",
       "      <td>812</td>\n",
       "      <td>567</td>\n",
       "      <td>845</td>\n",
       "      <td>367</td>\n",
       "      <td>969.0</td>\n",
       "      <td>816</td>\n",
       "    </tr>\n",
       "    <tr>\n",
       "      <th>2196</th>\n",
       "      <td>218</td>\n",
       "      <td>997</td>\n",
       "      <td>645</td>\n",
       "      <td>566</td>\n",
       "      <td>908</td>\n",
       "      <td>236</td>\n",
       "      <td>981.0</td>\n",
       "      <td>871</td>\n",
       "    </tr>\n",
       "    <tr>\n",
       "      <th>2197</th>\n",
       "      <td>218</td>\n",
       "      <td>830</td>\n",
       "      <td>812</td>\n",
       "      <td>549</td>\n",
       "      <td>823</td>\n",
       "      <td>367</td>\n",
       "      <td>975.0</td>\n",
       "      <td>824</td>\n",
       "    </tr>\n",
       "    <tr>\n",
       "      <th>2198</th>\n",
       "      <td>218</td>\n",
       "      <td>886</td>\n",
       "      <td>812</td>\n",
       "      <td>567</td>\n",
       "      <td>974</td>\n",
       "      <td>367</td>\n",
       "      <td>975.0</td>\n",
       "      <td>651</td>\n",
       "    </tr>\n",
       "    <tr>\n",
       "      <th>2199</th>\n",
       "      <td>218</td>\n",
       "      <td>861</td>\n",
       "      <td>812</td>\n",
       "      <td>567</td>\n",
       "      <td>991</td>\n",
       "      <td>367</td>\n",
       "      <td>981.0</td>\n",
       "      <td>547</td>\n",
       "    </tr>\n",
       "  </tbody>\n",
       "</table>\n",
       "<p>2000 rows × 8 columns</p>\n",
       "</div>"
      ],
      "text/plain": [
       "      quality_of_faculty  publications  citations  alumni_employment  \\\n",
       "200                    1             1          1                  1   \n",
       "201                    4             5          3                  2   \n",
       "202                    2            15          2                 11   \n",
       "203                    5            10         12                 10   \n",
       "204                   10            11         11                 12   \n",
       "...                  ...           ...        ...                ...   \n",
       "2195                 218           926        812                567   \n",
       "2196                 218           997        645                566   \n",
       "2197                 218           830        812                549   \n",
       "2198                 218           886        812                567   \n",
       "2199                 218           861        812                567   \n",
       "\n",
       "      influence  quality_of_education  broad_impact  patents  \n",
       "200           1                     1           1.0        2  \n",
       "201           3                    11           4.0        6  \n",
       "202           2                     3           2.0        1  \n",
       "203           9                     2          13.0       48  \n",
       "204          12                     7          12.0       16  \n",
       "...         ...                   ...           ...      ...  \n",
       "2195        845                   367         969.0      816  \n",
       "2196        908                   236         981.0      871  \n",
       "2197        823                   367         975.0      824  \n",
       "2198        974                   367         975.0      651  \n",
       "2199        991                   367         981.0      547  \n",
       "\n",
       "[2000 rows x 8 columns]"
      ]
     },
     "execution_count": 3,
     "metadata": {},
     "output_type": "execute_result"
    }
   ],
   "source": [
    "feature_cols = ['quality_of_faculty', 'publications', 'citations', 'alumni_employment', \n",
    "                'influence', 'quality_of_education', 'broad_impact', 'patents']\n",
    "X = data_df[feature_cols]\n",
    "Y = data_df['score']\n",
    "X"
   ]
  },
  {
   "cell_type": "markdown",
   "metadata": {},
   "source": [
    "## 四、模型构建"
   ]
  },
  {
   "cell_type": "code",
   "execution_count": 4,
   "metadata": {},
   "outputs": [
    {
     "name": "stdout",
     "output_type": "stream",
     "text": [
      "<class 'pandas.core.frame.DataFrame'>\n",
      "Int64Index: 2000 entries, 200 to 2199\n",
      "Data columns (total 14 columns):\n",
      " #   Column                Non-Null Count  Dtype  \n",
      "---  ------                --------------  -----  \n",
      " 0   world_rank            2000 non-null   int64  \n",
      " 1   institution           2000 non-null   object \n",
      " 2   region                2000 non-null   object \n",
      " 3   national_rank         2000 non-null   int64  \n",
      " 4   quality_of_education  2000 non-null   int64  \n",
      " 5   alumni_employment     2000 non-null   int64  \n",
      " 6   quality_of_faculty    2000 non-null   int64  \n",
      " 7   publications          2000 non-null   int64  \n",
      " 8   influence             2000 non-null   int64  \n",
      " 9   citations             2000 non-null   int64  \n",
      " 10  broad_impact          2000 non-null   float64\n",
      " 11  patents               2000 non-null   int64  \n",
      " 12  score                 2000 non-null   float64\n",
      " 13  year                  2000 non-null   int64  \n",
      "dtypes: float64(2), int64(10), object(2)\n",
      "memory usage: 234.4+ KB\n"
     ]
    }
   ],
   "source": [
    "data_df.describe()\n",
    "data_df.info()"
   ]
  },
  {
   "cell_type": "code",
   "execution_count": 5,
   "metadata": {},
   "outputs": [
    {
     "data": {
      "text/html": [
       "<div>\n",
       "<style scoped>\n",
       "    .dataframe tbody tr th:only-of-type {\n",
       "        vertical-align: middle;\n",
       "    }\n",
       "\n",
       "    .dataframe tbody tr th {\n",
       "        vertical-align: top;\n",
       "    }\n",
       "\n",
       "    .dataframe thead th {\n",
       "        text-align: right;\n",
       "    }\n",
       "</style>\n",
       "<table border=\"1\" class=\"dataframe\">\n",
       "  <thead>\n",
       "    <tr style=\"text-align: right;\">\n",
       "      <th></th>\n",
       "      <th>world_rank</th>\n",
       "      <th>national_rank</th>\n",
       "      <th>quality_of_education</th>\n",
       "      <th>alumni_employment</th>\n",
       "      <th>quality_of_faculty</th>\n",
       "      <th>publications</th>\n",
       "      <th>influence</th>\n",
       "      <th>citations</th>\n",
       "      <th>broad_impact</th>\n",
       "      <th>patents</th>\n",
       "      <th>score</th>\n",
       "      <th>year</th>\n",
       "    </tr>\n",
       "    <tr>\n",
       "      <th>institution</th>\n",
       "      <th></th>\n",
       "      <th></th>\n",
       "      <th></th>\n",
       "      <th></th>\n",
       "      <th></th>\n",
       "      <th></th>\n",
       "      <th></th>\n",
       "      <th></th>\n",
       "      <th></th>\n",
       "      <th></th>\n",
       "      <th></th>\n",
       "      <th></th>\n",
       "    </tr>\n",
       "  </thead>\n",
       "  <tbody>\n",
       "    <tr>\n",
       "      <th>Harvard University</th>\n",
       "      <td>1.0</td>\n",
       "      <td>1.0</td>\n",
       "      <td>1.0</td>\n",
       "      <td>1.0</td>\n",
       "      <td>1.0</td>\n",
       "      <td>1.0</td>\n",
       "      <td>1.0</td>\n",
       "      <td>1.0</td>\n",
       "      <td>1.0</td>\n",
       "      <td>2.5</td>\n",
       "      <td>100.000</td>\n",
       "      <td>2014.5</td>\n",
       "    </tr>\n",
       "    <tr>\n",
       "      <th>Stanford University</th>\n",
       "      <td>2.0</td>\n",
       "      <td>2.0</td>\n",
       "      <td>10.0</td>\n",
       "      <td>2.0</td>\n",
       "      <td>4.0</td>\n",
       "      <td>5.0</td>\n",
       "      <td>3.0</td>\n",
       "      <td>3.0</td>\n",
       "      <td>4.0</td>\n",
       "      <td>8.0</td>\n",
       "      <td>98.875</td>\n",
       "      <td>2014.5</td>\n",
       "    </tr>\n",
       "    <tr>\n",
       "      <th>Massachusetts Institute of Technology</th>\n",
       "      <td>3.0</td>\n",
       "      <td>3.0</td>\n",
       "      <td>3.0</td>\n",
       "      <td>11.0</td>\n",
       "      <td>2.0</td>\n",
       "      <td>15.0</td>\n",
       "      <td>2.0</td>\n",
       "      <td>2.0</td>\n",
       "      <td>2.0</td>\n",
       "      <td>1.0</td>\n",
       "      <td>98.115</td>\n",
       "      <td>2014.5</td>\n",
       "    </tr>\n",
       "    <tr>\n",
       "      <th>University of Cambridge</th>\n",
       "      <td>4.0</td>\n",
       "      <td>1.0</td>\n",
       "      <td>2.0</td>\n",
       "      <td>10.0</td>\n",
       "      <td>5.0</td>\n",
       "      <td>10.5</td>\n",
       "      <td>7.5</td>\n",
       "      <td>12.0</td>\n",
       "      <td>13.0</td>\n",
       "      <td>48.0</td>\n",
       "      <td>97.225</td>\n",
       "      <td>2014.5</td>\n",
       "    </tr>\n",
       "    <tr>\n",
       "      <th>University of Oxford</th>\n",
       "      <td>5.0</td>\n",
       "      <td>2.0</td>\n",
       "      <td>7.0</td>\n",
       "      <td>12.5</td>\n",
       "      <td>10.0</td>\n",
       "      <td>9.0</td>\n",
       "      <td>12.0</td>\n",
       "      <td>9.0</td>\n",
       "      <td>10.5</td>\n",
       "      <td>15.5</td>\n",
       "      <td>96.985</td>\n",
       "      <td>2014.5</td>\n",
       "    </tr>\n",
       "    <tr>\n",
       "      <th>Columbia University</th>\n",
       "      <td>6.0</td>\n",
       "      <td>4.0</td>\n",
       "      <td>13.0</td>\n",
       "      <td>7.0</td>\n",
       "      <td>9.0</td>\n",
       "      <td>13.5</td>\n",
       "      <td>13.0</td>\n",
       "      <td>10.0</td>\n",
       "      <td>12.5</td>\n",
       "      <td>4.0</td>\n",
       "      <td>96.775</td>\n",
       "      <td>2014.5</td>\n",
       "    </tr>\n",
       "    <tr>\n",
       "      <th>University of California, Berkeley</th>\n",
       "      <td>7.0</td>\n",
       "      <td>5.0</td>\n",
       "      <td>4.5</td>\n",
       "      <td>21.5</td>\n",
       "      <td>6.0</td>\n",
       "      <td>8.5</td>\n",
       "      <td>4.0</td>\n",
       "      <td>3.5</td>\n",
       "      <td>7.0</td>\n",
       "      <td>28.5</td>\n",
       "      <td>92.545</td>\n",
       "      <td>2014.5</td>\n",
       "    </tr>\n",
       "    <tr>\n",
       "      <th>University of Chicago</th>\n",
       "      <td>8.0</td>\n",
       "      <td>6.0</td>\n",
       "      <td>10.5</td>\n",
       "      <td>14.0</td>\n",
       "      <td>8.0</td>\n",
       "      <td>17.0</td>\n",
       "      <td>17.5</td>\n",
       "      <td>11.0</td>\n",
       "      <td>20.0</td>\n",
       "      <td>145.0</td>\n",
       "      <td>91.365</td>\n",
       "      <td>2014.5</td>\n",
       "    </tr>\n",
       "    <tr>\n",
       "      <th>Princeton University</th>\n",
       "      <td>9.0</td>\n",
       "      <td>7.0</td>\n",
       "      <td>4.5</td>\n",
       "      <td>15.5</td>\n",
       "      <td>3.0</td>\n",
       "      <td>71.0</td>\n",
       "      <td>25.0</td>\n",
       "      <td>21.5</td>\n",
       "      <td>37.0</td>\n",
       "      <td>214.5</td>\n",
       "      <td>88.990</td>\n",
       "      <td>2014.5</td>\n",
       "    </tr>\n",
       "    <tr>\n",
       "      <th>Yale University</th>\n",
       "      <td>10.5</td>\n",
       "      <td>8.5</td>\n",
       "      <td>9.5</td>\n",
       "      <td>25.5</td>\n",
       "      <td>11.0</td>\n",
       "      <td>18.0</td>\n",
       "      <td>7.5</td>\n",
       "      <td>33.5</td>\n",
       "      <td>19.5</td>\n",
       "      <td>47.0</td>\n",
       "      <td>87.360</td>\n",
       "      <td>2014.5</td>\n",
       "    </tr>\n",
       "  </tbody>\n",
       "</table>\n",
       "</div>"
      ],
      "text/plain": [
       "                                       world_rank  national_rank  \\\n",
       "institution                                                        \n",
       "Harvard University                            1.0            1.0   \n",
       "Stanford University                           2.0            2.0   \n",
       "Massachusetts Institute of Technology         3.0            3.0   \n",
       "University of Cambridge                       4.0            1.0   \n",
       "University of Oxford                          5.0            2.0   \n",
       "Columbia University                           6.0            4.0   \n",
       "University of California, Berkeley            7.0            5.0   \n",
       "University of Chicago                         8.0            6.0   \n",
       "Princeton University                          9.0            7.0   \n",
       "Yale University                              10.5            8.5   \n",
       "\n",
       "                                       quality_of_education  \\\n",
       "institution                                                   \n",
       "Harvard University                                      1.0   \n",
       "Stanford University                                    10.0   \n",
       "Massachusetts Institute of Technology                   3.0   \n",
       "University of Cambridge                                 2.0   \n",
       "University of Oxford                                    7.0   \n",
       "Columbia University                                    13.0   \n",
       "University of California, Berkeley                      4.5   \n",
       "University of Chicago                                  10.5   \n",
       "Princeton University                                    4.5   \n",
       "Yale University                                         9.5   \n",
       "\n",
       "                                       alumni_employment  quality_of_faculty  \\\n",
       "institution                                                                    \n",
       "Harvard University                                   1.0                 1.0   \n",
       "Stanford University                                  2.0                 4.0   \n",
       "Massachusetts Institute of Technology               11.0                 2.0   \n",
       "University of Cambridge                             10.0                 5.0   \n",
       "University of Oxford                                12.5                10.0   \n",
       "Columbia University                                  7.0                 9.0   \n",
       "University of California, Berkeley                  21.5                 6.0   \n",
       "University of Chicago                               14.0                 8.0   \n",
       "Princeton University                                15.5                 3.0   \n",
       "Yale University                                     25.5                11.0   \n",
       "\n",
       "                                       publications  influence  citations  \\\n",
       "institution                                                                 \n",
       "Harvard University                              1.0        1.0        1.0   \n",
       "Stanford University                             5.0        3.0        3.0   \n",
       "Massachusetts Institute of Technology          15.0        2.0        2.0   \n",
       "University of Cambridge                        10.5        7.5       12.0   \n",
       "University of Oxford                            9.0       12.0        9.0   \n",
       "Columbia University                            13.5       13.0       10.0   \n",
       "University of California, Berkeley              8.5        4.0        3.5   \n",
       "University of Chicago                          17.0       17.5       11.0   \n",
       "Princeton University                           71.0       25.0       21.5   \n",
       "Yale University                                18.0        7.5       33.5   \n",
       "\n",
       "                                       broad_impact  patents    score    year  \n",
       "institution                                                                    \n",
       "Harvard University                              1.0      2.5  100.000  2014.5  \n",
       "Stanford University                             4.0      8.0   98.875  2014.5  \n",
       "Massachusetts Institute of Technology           2.0      1.0   98.115  2014.5  \n",
       "University of Cambridge                        13.0     48.0   97.225  2014.5  \n",
       "University of Oxford                           10.5     15.5   96.985  2014.5  \n",
       "Columbia University                            12.5      4.0   96.775  2014.5  \n",
       "University of California, Berkeley              7.0     28.5   92.545  2014.5  \n",
       "University of Chicago                          20.0    145.0   91.365  2014.5  \n",
       "Princeton University                           37.0    214.5   88.990  2014.5  \n",
       "Yale University                                19.5     47.0   87.360  2014.5  "
      ]
     },
     "execution_count": 5,
     "metadata": {},
     "output_type": "execute_result"
    }
   ],
   "source": [
    "mean_df = data_df.groupby('institution').mean()\n",
    "top10 = mean_df.sort_values(by='score', ascending=False).head(10) \n",
    "top10"
   ]
  },
  {
   "cell_type": "code",
   "execution_count": 6,
   "metadata": {},
   "outputs": [
    {
     "name": "stdout",
     "output_type": "stream",
     "text": [
      "[100.     98.875  98.115  97.225  96.985  96.775  92.545  91.365  88.99\n",
      "  87.36 ]\n"
     ]
    },
    {
     "name": "stderr",
     "output_type": "stream",
     "text": [
      "C:\\ProgramData\\Anaconda3\\envs\\rs06\\lib\\site-packages\\seaborn\\_decorators.py:43: FutureWarning: Pass the following variables as keyword args: x, y. From version 0.12, the only valid positional argument will be `data`, and passing other arguments without an explicit keyword will result in an error or misinterpretation.\n",
      "  FutureWarning\n"
     ]
    },
    {
     "data": {
      "text/plain": [
       "<Figure size 640x480 with 1 Axes>"
      ]
     },
     "metadata": {},
     "output_type": "display_data"
    }
   ],
   "source": [
    "import matplotlib.pyplot as plt\n",
    "import seaborn as sns\n",
    "sns.set()\n",
    "x = top10['score'].values\n",
    "print(x)\n",
    "y = top10.index.values\n",
    "#print(y)\n",
    "sns.barplot(x, y, orient='h', palette='Reds_d')\n",
    "plt.xlim(75,101)\n",
    "plt.show()"
   ]
  },
  {
   "cell_type": "code",
   "execution_count": 7,
   "metadata": {},
   "outputs": [
    {
     "data": {
      "text/html": [
       "<div>\n",
       "<style scoped>\n",
       "    .dataframe tbody tr th:only-of-type {\n",
       "        vertical-align: middle;\n",
       "    }\n",
       "\n",
       "    .dataframe tbody tr th {\n",
       "        vertical-align: top;\n",
       "    }\n",
       "\n",
       "    .dataframe thead th {\n",
       "        text-align: right;\n",
       "    }\n",
       "</style>\n",
       "<table border=\"1\" class=\"dataframe\">\n",
       "  <thead>\n",
       "    <tr style=\"text-align: right;\">\n",
       "      <th></th>\n",
       "      <th>world_rank</th>\n",
       "      <th>national_rank</th>\n",
       "      <th>score</th>\n",
       "    </tr>\n",
       "    <tr>\n",
       "      <th>institution</th>\n",
       "      <th></th>\n",
       "      <th></th>\n",
       "      <th></th>\n",
       "    </tr>\n",
       "  </thead>\n",
       "  <tbody>\n",
       "    <tr>\n",
       "      <th>Tsinghua University</th>\n",
       "      <td>82.5</td>\n",
       "      <td>2.0</td>\n",
       "      <td>52.405</td>\n",
       "    </tr>\n",
       "    <tr>\n",
       "      <th>Peking University</th>\n",
       "      <td>55.5</td>\n",
       "      <td>1.0</td>\n",
       "      <td>54.780</td>\n",
       "    </tr>\n",
       "  </tbody>\n",
       "</table>\n",
       "</div>"
      ],
      "text/plain": [
       "                     world_rank  national_rank   score\n",
       "institution                                           \n",
       "Tsinghua University        82.5            2.0  52.405\n",
       "Peking University          55.5            1.0  54.780"
      ]
     },
     "execution_count": 7,
     "metadata": {},
     "output_type": "execute_result"
    }
   ],
   "source": [
    "china_df = mean_df.loc[['Tsinghua University', 'Peking University'],['world_rank','national_rank','score']]\n",
    "china_df"
   ]
  },
  {
   "cell_type": "markdown",
   "metadata": {},
   "source": [
    "### 线性回归"
   ]
  },
  {
   "cell_type": "code",
   "execution_count": 8,
   "metadata": {},
   "outputs": [
    {
     "name": "stdout",
     "output_type": "stream",
     "text": [
      "1600 400 1600 400\n"
     ]
    }
   ],
   "source": [
    "from sklearn.model_selection import train_test_split\n",
    "features = ['quality_of_education', 'alumni_employment', 'quality_of_faculty', 'publications', 'influence', 'citations', 'broad_impact', 'patents']\n",
    "X = data_df[features]\n",
    "Y = data_df['score']\n",
    "all_x = X.values\n",
    "all_y = Y.values\n",
    "train_x, test_x, train_y, test_y = train_test_split(all_x, all_y, test_size = 0.2, random_state = 8)\n",
    "print(len(train_x),len(test_x),len(train_y),len(test_x))"
   ]
  },
  {
   "cell_type": "code",
   "execution_count": 9,
   "metadata": {},
   "outputs": [
    {
     "name": "stdout",
     "output_type": "stream",
     "text": [
      "The rmse is : 3.323036\n",
      "The score is: 0.524958\n"
     ]
    }
   ],
   "source": [
    "from sklearn.linear_model import LinearRegression\n",
    "lr = LinearRegression()\n",
    "lr.fit(train_x, train_y)\n",
    "predict_y = lr.predict(test_x)\n",
    "rmse = ((predict_y - test_y)**2).mean()**0.5\n",
    "print(\"The rmse is : %.6f\" %(rmse))\n",
    "print(\"The score is: %.6f\" %(lr.score(test_x, test_y)))\n"
   ]
  },
  {
   "cell_type": "markdown",
   "metadata": {},
   "source": [
    "查看特征系数"
   ]
  },
  {
   "cell_type": "code",
   "execution_count": 10,
   "metadata": {},
   "outputs": [
    {
     "name": "stdout",
     "output_type": "stream",
     "text": [
      "<class 'numpy.ndarray'>\n",
      "[-6.19415960e-03 -7.23077009e-03 -6.74350593e-02  3.65660667e-04\n",
      "  5.62135925e-04  4.52169195e-05 -2.41740603e-03 -2.62956690e-03]\n"
     ]
    },
    {
     "data": {
      "image/png": "[encoded data removed]",
      "text/plain": [
       "<Figure size 432x288 with 1 Axes>"
      ]
     },
     "metadata": {},
     "output_type": "display_data"
    }
   ],
   "source": [
    "print(type(lr.coef_))\n",
    "print(lr.coef_)\n",
    "import matplotlib.pyplot as plt\n",
    "import seaborn as sns\n",
    "\n",
    "sns.set()\n",
    "sns.barplot(x=lr.coef_, y=features)\n",
    "plt.show()"
   ]
  },
  {
   "cell_type": "code",
   "execution_count": 19,
   "metadata": {},
   "outputs": [
    {
     "data": {
      "text/plain": [
       "<matplotlib.axes._subplots.AxesSubplot at 0x1834173aec8>"
      ]
     },
     "execution_count": 19,
     "metadata": {},
     "output_type": "execute_result"
    },
    {
     "data": {
      "image/png": "[encoded data removed]",
      "text/plain": [
       "<Figure size 432x288 with 1 Axes>"
      ]
     },
     "metadata": {},
     "output_type": "display_data"
    }
   ],
   "source": [
    "sns.regplot(x = 'quality_of_faculty', y = 'score', data=data_df, marker='+')"
   ]
  },
  {
   "cell_type": "markdown",
   "metadata": {},
   "source": [
    "### k折交叉验证"
   ]
  },
  {
   "cell_type": "code",
   "execution_count": 92,
   "metadata": {},
   "outputs": [
    {
     "name": "stdout",
     "output_type": "stream",
     "text": [
      "0 times rmse is : 9.117663 \n",
      "1 times rmse is : 2.887568 \n",
      "2 times rmse is : 1.522762 \n",
      "3 times rmse is : 0.865830 \n",
      "4 times rmse is : 0.745815 \n",
      "5 times rmse is : 8.848204 \n",
      "6 times rmse is : 3.392009 \n",
      "7 times rmse is : 1.705772 \n",
      "8 times rmse is : 1.347888 \n",
      "9 times rmse is : 2.016745 \n",
      "mean rmse is: 3.245026 \n"
     ]
    }
   ],
   "source": [
    "kf_lr = LinearRegression()\n",
    "from sklearn.model_selection import StratifiedKFold, KFold\n",
    "kfold = KFold(n_splits=10, random_state=8)\n",
    "#kfold = StratifiedKFold(n_splits=5, random_state=8)\n",
    "sum_rmse=0\n",
    "for i, (train_i, test_i) in enumerate(kfold.split(all_x, all_y)):\n",
    "    kf_lr.fit(all_x[train_i], all_y[train_i])\n",
    "    predict_y = kf_lr.predict(all_x[test_i])\n",
    "    rmse = ((predict_y - all_y[test_i])**2).mean()**0.5\n",
    "    sum_rmse += rmse\n",
    "    print('%d times rmse is : %.6f ' %(i, rmse))\n",
    "print(\"mean rmse is: %.6f \" %(sum_rmse/(i+1)))"
   ]
  },
  {
   "cell_type": "markdown",
   "metadata": {},
   "source": [
    "### 归一化 normalization"
   ]
  },
  {
   "cell_type": "code",
   "execution_count": 61,
   "metadata": {},
   "outputs": [
    {
     "name": "stdout",
     "output_type": "stream",
     "text": [
      "[[0.         0.         0.         ... 0.         0.         0.00114943]\n",
      " [0.0273224  0.00176678 0.01382488 ... 0.00246609 0.003003   0.00574713]\n",
      " [0.00546448 0.01766784 0.00460829 ... 0.00123305 0.001001   0.        ]\n",
      " ...\n",
      " [1.         0.96819788 1.         ... 1.         0.97497497 0.94597701]\n",
      " [1.         1.         1.         ... 1.         0.97497497 0.74712644]\n",
      " [1.         1.         1.         ... 1.         0.98098098 0.62758621]]\n",
      "1600 400 1600 400\n",
      "after min max scaler normalization, the rmse is: 3.323036\n",
      "The score is: 0.524958\n"
     ]
    }
   ],
   "source": [
    "from sklearn import preprocessing\n",
    "min_max = preprocessing.MinMaxScaler()\n",
    "mm_all_x = min_max.fit_transform(all_x)\n",
    "print(mm_all_x)\n",
    "train_x, test_x, train_y, test_y = train_test_split(mm_all_x, all_y, test_size = 0.2, random_state = 8)\n",
    "print(len(train_x),len(test_x),len(train_y),len(test_x))\n",
    "\n",
    "mm_lr = LinearRegression()\n",
    "mm_lr.fit(train_x, train_y)\n",
    "predict_y = mm_lr.predict(test_x)\n",
    "rmse = ((predict_y - test_y)**2).mean()**0.5\n",
    "print(\"after min max scaler normalization, the rmse is: %.6f\" %(rmse))\n",
    "print(\"The score is: %.6f\" %(mm_lr.score(test_x, test_y)))"
   ]
  },
  {
   "cell_type": "markdown",
   "metadata": {},
   "source": [
    "### 对输入取log"
   ]
  },
  {
   "cell_type": "code",
   "execution_count": 21,
   "metadata": {},
   "outputs": [
    {
     "name": "stdout",
     "output_type": "stream",
     "text": [
      "[[  1.   1.   1. ...   1.   1.   2.]\n",
      " [ 11.   2.   4. ...   3.   4.   6.]\n",
      " [  3.  11.   2. ...   2.   2.   1.]\n",
      " ...\n",
      " [367. 549. 218. ... 812. 975. 824.]\n",
      " [367. 567. 218. ... 812. 975. 651.]\n",
      " [367. 567. 218. ... 812. 981. 547.]]\n"
     ]
    },
    {
     "data": {
      "text/plain": [
       "True"
      ]
     },
     "execution_count": 21,
     "metadata": {},
     "output_type": "execute_result"
    }
   ],
   "source": [
    "# log input\n",
    "print(all_x)\n",
    "log_all_x = np.log2(all_x+1)\n",
    "x_train, x_test, y_train, y_test = train_test_split(log_all_x, all_y, test_size=0.2, random_state=8)\n",
    "x_train.shape, y_train.shape, x_test.shape, y_test.shape\n",
    "np.isfinite(x_train).all()"
   ]
  },
  {
   "cell_type": "code",
   "execution_count": 22,
   "metadata": {},
   "outputs": [
    {
     "name": "stdout",
     "output_type": "stream",
     "text": [
      "After log input, the rmse is: 2.211393\n"
     ]
    }
   ],
   "source": [
    "lr2 = LinearRegression()\n",
    "lr2.fit(x_train, y_train)\n",
    "predict_y2 = lr2.predict(x_test)\n",
    "rmse = ((predict_y2 - test_y)**2).mean()**0.5\n",
    "print(\"After log input, the rmse is: %.6f\" %(rmse))"
   ]
  },
  {
   "cell_type": "code",
   "execution_count": 23,
   "metadata": {},
   "outputs": [
    {
     "data": {
      "text/plain": [
       "<matplotlib.axes._subplots.AxesSubplot at 0x1834173af08>"
      ]
     },
     "execution_count": 23,
     "metadata": {},
     "output_type": "execute_result"
    },
    {
     "data": {
      "image/png": "[encoded data removed]",
      "text/plain": [
       "<Figure size 432x288 with 1 Axes>"
      ]
     },
     "metadata": {},
     "output_type": "display_data"
    }
   ],
   "source": [
    "sns.set()\n",
    "sns.barplot(x = lr2.coef_, y = features)"
   ]
  },
  {
   "cell_type": "code",
   "execution_count": 24,
   "metadata": {},
   "outputs": [
    {
     "data": {
      "text/plain": [
       "<matplotlib.axes._subplots.AxesSubplot at 0x1833fb9c5c8>"
      ]
     },
     "execution_count": 24,
     "metadata": {},
     "output_type": "execute_result"
    },
    {
     "data": {
      "image/png": "[encoded data removed]",
      "text/plain": [
       "<Figure size 432x288 with 1 Axes>"
      ]
     },
     "metadata": {},
     "output_type": "display_data"
    }
   ],
   "source": [
    "#log2_df = data_df[data_df[features].apply(lambda x:np.log2(x+1))]\n",
    "log2_df = pd.DataFrame(log_all_x, columns = features)\n",
    "log2_df.insert(0, 'score', all_y)\n",
    "#print(log2_df)\n",
    "sns.regplot(x = 'quality_of_faculty', y = 'score', data = log2_df, marker='+')"
   ]
  },
  {
   "cell_type": "markdown",
   "metadata": {},
   "source": [
    "### 对输入取2次log"
   ]
  },
  {
   "cell_type": "code",
   "execution_count": 25,
   "metadata": {},
   "outputs": [
    {
     "data": {
      "text/plain": [
       "((1600, 8), (400, 8), (1600,), (400,))"
      ]
     },
     "execution_count": 25,
     "metadata": {},
     "output_type": "execute_result"
    }
   ],
   "source": [
    "# double log for input\n",
    "# log2_df is first log, llog2_df is second log\n",
    "llog2_df = log2_df[features].apply(lambda x: np.log2(x+1))\n",
    "llog_all_x = llog2_df.values\n",
    "llog2_df.insert(0, 'score', all_y)\n",
    "\n",
    "tra_x, tes_x, tra_y, tes_y = train_test_split(llog_all_x, all_y, test_size=0.2, random_state=8)\n",
    "tra_x.shape, tes_x.shape, tra_y.shape, tes_y.shape"
   ]
  },
  {
   "cell_type": "code",
   "execution_count": 26,
   "metadata": {},
   "outputs": [
    {
     "name": "stdout",
     "output_type": "stream",
     "text": [
      "rmse is : 1.626365\n"
     ]
    }
   ],
   "source": [
    "lr3 = LinearRegression()\n",
    "lr3.fit(tra_x, tra_y)\n",
    "predict_y = lr3.predict(tes_x)\n",
    "rmse = ((predict_y - tes_y)**2).mean()**0.5\n",
    "print(\"rmse is : %.6f\" %(rmse))"
   ]
  },
  {
   "cell_type": "code",
   "execution_count": 27,
   "metadata": {},
   "outputs": [
    {
     "data": {
      "text/plain": [
       "<matplotlib.axes._subplots.AxesSubplot at 0x183416a2188>"
      ]
     },
     "execution_count": 27,
     "metadata": {},
     "output_type": "execute_result"
    },
    {
     "data": {
      "image/png": "[encoded data removed]",
      "text/plain": [
       "<Figure size 432x288 with 1 Axes>"
      ]
     },
     "metadata": {},
     "output_type": "display_data"
    }
   ],
   "source": [
    "sns.set()\n",
    "sns.regplot(x='quality_of_faculty', y='score', data=llog2_df, marker='+')"
   ]
  },
  {
   "cell_type": "code",
   "execution_count": 28,
   "metadata": {},
   "outputs": [
    {
     "data": {
      "text/plain": [
       "<matplotlib.axes._subplots.AxesSubplot at 0x18341570108>"
      ]
     },
     "execution_count": 28,
     "metadata": {},
     "output_type": "execute_result"
    },
    {
     "data": {
      "image/png": "[encoded data removed]",
      "text/plain": [
       "<Figure size 432x288 with 1 Axes>"
      ]
     },
     "metadata": {},
     "output_type": "display_data"
    }
   ],
   "source": [
    "sns.barplot(x=lr3.coef_, y=features)"
   ]
  },
  {
   "cell_type": "markdown",
   "metadata": {},
   "source": [
    "### 2次log + kfold"
   ]
  },
  {
   "cell_type": "code",
   "execution_count": 221,
   "metadata": {},
   "outputs": [
    {
     "name": "stdout",
     "output_type": "stream",
     "text": [
      "0 times rmse is 4.064027 \n",
      "1 times rmse is 1.390539 \n",
      "2 times rmse is 0.716263 \n",
      "3 times rmse is 0.546501 \n",
      "4 times rmse is 0.682580 \n",
      "5 times rmse is 3.973513 \n",
      "6 times rmse is 1.642411 \n",
      "7 times rmse is 0.892036 \n",
      "8 times rmse is 0.673750 \n",
      "9 times rmse is 0.814653 \n",
      "mean rmse is 1.539627\n"
     ]
    }
   ],
   "source": [
    "kfold = KFold(n_splits=10, random_state=8)\n",
    "llkf_lr = LinearRegression()\n",
    "sum_rmse = 0\n",
    "for i, (train_i, test_i) in enumerate(kfold.split(llog_all_x, all_y)):\n",
    "    llkf_lr.fit(llog_all_x[train_i], all_y[train_i])\n",
    "    predict_y = llkf_lr.predict(llog_all_x[test_i])\n",
    "    rmse = ((predict_y - all_y[test_i])**2).mean()**0.5\n",
    "    print(\"%d times rmse is %.6f \" %(i, rmse))\n",
    "    sum_rmse += rmse\n",
    "print(\"mean rmse is %.6f\" %(sum_rmse/(i+1)))"
   ]
  },
  {
   "cell_type": "markdown",
   "metadata": {},
   "source": [
    "### 多项式回归"
   ]
  },
  {
   "cell_type": "code",
   "execution_count": 29,
   "metadata": {},
   "outputs": [],
   "source": [
    "# PolynomialFeatures\n",
    "from sklearn.preprocessing import PolynomialFeatures\n",
    "poly = PolynomialFeatures()\n",
    "poly_all_x = poly.fit_transform(all_x)\n",
    "poly_all_x.shape, all_x.shape\n",
    "\n",
    "x_tra, x_tes, y_tra, y_tes = train_test_split(poly_all_x, all_y, test_size=0.2, random_state=8)\n",
    "x_tra.shape, x_tes.shape, y_tra.shape, y_tes.shape\n",
    "#poly.get_feature_names(features)\n",
    "poly_df = pd.DataFrame(poly_all_x, columns=poly.get_feature_names(features))\n",
    "poly_df.insert(0, 'score', all_y)"
   ]
  },
  {
   "cell_type": "code",
   "execution_count": 30,
   "metadata": {},
   "outputs": [
    {
     "name": "stdout",
     "output_type": "stream",
     "text": [
      "rmse is : 2.512822\n"
     ]
    }
   ],
   "source": [
    "lr4 = LinearRegression()\n",
    "lr4.fit(x_tra, y_tra)\n",
    "predict_y = lr4.predict(x_tes)\n",
    "rmse = ((predict_y - y_tes)**2).mean()**0.5\n",
    "print('rmse is : %.6f' %(rmse))"
   ]
  },
  {
   "cell_type": "code",
   "execution_count": 31,
   "metadata": {},
   "outputs": [
    {
     "data": {
      "text/plain": [
       "<matplotlib.axes._subplots.AxesSubplot at 0x18341850208>"
      ]
     },
     "execution_count": 31,
     "metadata": {},
     "output_type": "execute_result"
    },
    {
     "data": {
      "image/png": "[encoded data removed]",
      "text/plain": [
       "<Figure size 432x288 with 1 Axes>"
      ]
     },
     "metadata": {},
     "output_type": "display_data"
    }
   ],
   "source": [
    "sns.set()\n",
    "sns.barplot(x=lr4.coef_, y=poly.get_feature_names(features))"
   ]
  },
  {
   "cell_type": "code",
   "execution_count": 32,
   "metadata": {},
   "outputs": [
    {
     "data": {
      "text/plain": [
       "<matplotlib.axes._subplots.AxesSubplot at 0x1834183be08>"
      ]
     },
     "execution_count": 32,
     "metadata": {},
     "output_type": "execute_result"
    },
    {
     "data": {
      "image/png": "[encoded data removed]",
      "text/plain": [
       "<Figure size 432x288 with 1 Axes>"
      ]
     },
     "metadata": {},
     "output_type": "display_data"
    }
   ],
   "source": [
    "sns.regplot(x='quality_of_faculty', y='score', data=poly_df, marker='+')"
   ]
  },
  {
   "cell_type": "markdown",
   "metadata": {},
   "source": [
    "### 多项式 + kfold"
   ]
  },
  {
   "cell_type": "code",
   "execution_count": 225,
   "metadata": {},
   "outputs": [
    {
     "name": "stdout",
     "output_type": "stream",
     "text": [
      "0 times rmse is: 5.915857\n",
      "1 times rmse is: 1.735471\n",
      "2 times rmse is: 1.344629\n",
      "3 times rmse is: 1.619599\n",
      "4 times rmse is: 1.526595\n",
      "5 times rmse is: 5.997187\n",
      "6 times rmse is: 2.103670\n",
      "7 times rmse is: 1.477447\n",
      "8 times rmse is: 1.229652\n",
      "9 times rmse is: 2.231431\n",
      "mean rmse is : 2.518154 \n"
     ]
    }
   ],
   "source": [
    "polykf_lr = LinearRegression()\n",
    "kfold = KFold(n_splits=10, random_state=8)\n",
    "sum_rmse = 0\n",
    "for i, (train_i, test_i) in enumerate(kfold.split(poly_all_x, all_y)):\n",
    "    polykf_lr.fit(poly_all_x[train_i], all_y[train_i])\n",
    "    predict_y = polykf_lr.predict(poly_all_x[test_i])\n",
    "    rmse = ((predict_y - all_y[test_i])**2).mean()**0.5\n",
    "    sum_rmse += rmse\n",
    "    print(\"%d times rmse is: %.6f\" %(i, rmse))\n",
    "print(\"mean rmse is : %.6f \" %(sum_rmse/(i+1)))"
   ]
  },
  {
   "cell_type": "markdown",
   "metadata": {},
   "source": [
    "### 查看皮尔森系数  用来去除高相关性feature的判断"
   ]
  },
  {
   "cell_type": "code",
   "execution_count": 33,
   "metadata": {},
   "outputs": [
    {
     "data": {
      "text/html": [
       "<div>\n",
       "<style scoped>\n",
       "    .dataframe tbody tr th:only-of-type {\n",
       "        vertical-align: middle;\n",
       "    }\n",
       "\n",
       "    .dataframe tbody tr th {\n",
       "        vertical-align: top;\n",
       "    }\n",
       "\n",
       "    .dataframe thead th {\n",
       "        text-align: right;\n",
       "    }\n",
       "</style>\n",
       "<table border=\"1\" class=\"dataframe\">\n",
       "  <thead>\n",
       "    <tr style=\"text-align: right;\">\n",
       "      <th></th>\n",
       "      <th>quality_of_education</th>\n",
       "      <th>alumni_employment</th>\n",
       "      <th>quality_of_faculty</th>\n",
       "      <th>publications</th>\n",
       "      <th>influence</th>\n",
       "      <th>citations</th>\n",
       "      <th>broad_impact</th>\n",
       "      <th>patents</th>\n",
       "    </tr>\n",
       "  </thead>\n",
       "  <tbody>\n",
       "    <tr>\n",
       "      <td>quality_of_education</td>\n",
       "      <td>1.000000</td>\n",
       "      <td>0.471441</td>\n",
       "      <td>0.691573</td>\n",
       "      <td>0.522428</td>\n",
       "      <td>0.549674</td>\n",
       "      <td>0.526463</td>\n",
       "      <td>0.521615</td>\n",
       "      <td>0.391934</td>\n",
       "    </tr>\n",
       "    <tr>\n",
       "      <td>alumni_employment</td>\n",
       "      <td>0.471441</td>\n",
       "      <td>1.000000</td>\n",
       "      <td>0.392224</td>\n",
       "      <td>0.466084</td>\n",
       "      <td>0.409959</td>\n",
       "      <td>0.446784</td>\n",
       "      <td>0.423619</td>\n",
       "      <td>0.408691</td>\n",
       "    </tr>\n",
       "    <tr>\n",
       "      <td>quality_of_faculty</td>\n",
       "      <td>0.691573</td>\n",
       "      <td>0.392224</td>\n",
       "      <td>1.000000</td>\n",
       "      <td>0.534627</td>\n",
       "      <td>0.564924</td>\n",
       "      <td>0.554913</td>\n",
       "      <td>0.549345</td>\n",
       "      <td>0.419068</td>\n",
       "    </tr>\n",
       "    <tr>\n",
       "      <td>publications</td>\n",
       "      <td>0.522428</td>\n",
       "      <td>0.466084</td>\n",
       "      <td>0.534627</td>\n",
       "      <td>1.000000</td>\n",
       "      <td>0.847979</td>\n",
       "      <td>0.792149</td>\n",
       "      <td>0.917878</td>\n",
       "      <td>0.599615</td>\n",
       "    </tr>\n",
       "    <tr>\n",
       "      <td>influence</td>\n",
       "      <td>0.549674</td>\n",
       "      <td>0.409959</td>\n",
       "      <td>0.564924</td>\n",
       "      <td>0.847979</td>\n",
       "      <td>1.000000</td>\n",
       "      <td>0.810993</td>\n",
       "      <td>0.916040</td>\n",
       "      <td>0.526975</td>\n",
       "    </tr>\n",
       "    <tr>\n",
       "      <td>citations</td>\n",
       "      <td>0.526463</td>\n",
       "      <td>0.446784</td>\n",
       "      <td>0.554913</td>\n",
       "      <td>0.792149</td>\n",
       "      <td>0.810993</td>\n",
       "      <td>1.000000</td>\n",
       "      <td>0.852638</td>\n",
       "      <td>0.508626</td>\n",
       "    </tr>\n",
       "    <tr>\n",
       "      <td>broad_impact</td>\n",
       "      <td>0.521615</td>\n",
       "      <td>0.423619</td>\n",
       "      <td>0.549345</td>\n",
       "      <td>0.917878</td>\n",
       "      <td>0.916040</td>\n",
       "      <td>0.852638</td>\n",
       "      <td>1.000000</td>\n",
       "      <td>0.562861</td>\n",
       "    </tr>\n",
       "    <tr>\n",
       "      <td>patents</td>\n",
       "      <td>0.391934</td>\n",
       "      <td>0.408691</td>\n",
       "      <td>0.419068</td>\n",
       "      <td>0.599615</td>\n",
       "      <td>0.526975</td>\n",
       "      <td>0.508626</td>\n",
       "      <td>0.562861</td>\n",
       "      <td>1.000000</td>\n",
       "    </tr>\n",
       "  </tbody>\n",
       "</table>\n",
       "</div>"
      ],
      "text/plain": [
       "                      quality_of_education  alumni_employment  \\\n",
       "quality_of_education              1.000000           0.471441   \n",
       "alumni_employment                 0.471441           1.000000   \n",
       "quality_of_faculty                0.691573           0.392224   \n",
       "publications                      0.522428           0.466084   \n",
       "influence                         0.549674           0.409959   \n",
       "citations                         0.526463           0.446784   \n",
       "broad_impact                      0.521615           0.423619   \n",
       "patents                           0.391934           0.408691   \n",
       "\n",
       "                      quality_of_faculty  publications  influence  citations  \\\n",
       "quality_of_education            0.691573      0.522428   0.549674   0.526463   \n",
       "alumni_employment               0.392224      0.466084   0.409959   0.446784   \n",
       "quality_of_faculty              1.000000      0.534627   0.564924   0.554913   \n",
       "publications                    0.534627      1.000000   0.847979   0.792149   \n",
       "influence                       0.564924      0.847979   1.000000   0.810993   \n",
       "citations                       0.554913      0.792149   0.810993   1.000000   \n",
       "broad_impact                    0.549345      0.917878   0.916040   0.852638   \n",
       "patents                         0.419068      0.599615   0.526975   0.508626   \n",
       "\n",
       "                      broad_impact   patents  \n",
       "quality_of_education      0.521615  0.391934  \n",
       "alumni_employment         0.423619  0.408691  \n",
       "quality_of_faculty        0.549345  0.419068  \n",
       "publications              0.917878  0.599615  \n",
       "influence                 0.916040  0.526975  \n",
       "citations                 0.852638  0.508626  \n",
       "broad_impact              1.000000  0.562861  \n",
       "patents                   0.562861  1.000000  "
      ]
     },
     "execution_count": 33,
     "metadata": {},
     "output_type": "execute_result"
    }
   ],
   "source": [
    "data_df[features].corr()\n",
    "#data_df[['quality_of_education', 'alumni_employment', 'quality_of_faculty','publications', 'patents']].corr()\n",
    "#data_df.corr()"
   ]
  },
  {
   "cell_type": "markdown",
   "metadata": {},
   "source": [
    "### 去除broad_impact"
   ]
  },
  {
   "cell_type": "code",
   "execution_count": 45,
   "metadata": {},
   "outputs": [
    {
     "name": "stdout",
     "output_type": "stream",
     "text": [
      "rmse is : 3.329076\n"
     ]
    }
   ],
   "source": [
    "p_data_df = data_df[['quality_of_education', 'alumni_employment', 'quality_of_faculty','publications', 'patents','influence','citations','patents']]\n",
    "exbroad_all_x = p_data_df.values\n",
    "\n",
    "train_x, test_x, train_y, test_y = train_test_split(exbroad_all_x, all_y, test_size=0.2, random_state=8)\n",
    "train_x.shape, test_x.shape\n",
    "exbroad_lr = LinearRegression()\n",
    "exbroad_lr.fit(train_x, train_y)\n",
    "predict_y = exbroad_lr.predict(test_x)\n",
    "rmse = ((predict_y - test_y)**2).mean()**0.5\n",
    "print(\"rmse is : %.6f\" %(rmse))"
   ]
  },
  {
   "cell_type": "markdown",
   "metadata": {},
   "source": [
    "### 去除多项broad_impact,citations,influence"
   ]
  },
  {
   "cell_type": "code",
   "execution_count": 34,
   "metadata": {},
   "outputs": [
    {
     "data": {
      "text/plain": [
       "((1600, 5), (400, 5))"
      ]
     },
     "execution_count": 34,
     "metadata": {},
     "output_type": "execute_result"
    }
   ],
   "source": [
    "# 只是用下面的系数，高相关性feature删除\n",
    "p_data_df = data_df[['quality_of_education', 'alumni_employment', 'quality_of_faculty','publications', 'patents']]\n",
    "part_all_x = p_data_df.values\n",
    "\n",
    "train_x, test_x, train_y, test_y = train_test_split(part_all_x, all_y, test_size=0.2, random_state=8)\n",
    "train_x.shape, test_x.shape"
   ]
  },
  {
   "cell_type": "code",
   "execution_count": 35,
   "metadata": {},
   "outputs": [
    {
     "name": "stdout",
     "output_type": "stream",
     "text": [
      "rmse is : 3.336093\n"
     ]
    }
   ],
   "source": [
    "lr5 = LinearRegression()\n",
    "lr5.fit(train_x, train_y)\n",
    "predict_y = lr5.predict(test_x)\n",
    "rmse = ((predict_y - test_y)**2).mean()**0.5\n",
    "print(\"rmse is : %.6f\" %(rmse))"
   ]
  },
  {
   "cell_type": "markdown",
   "metadata": {},
   "source": [
    "### 同样去除broad_impact,citations,influence相关feature后，使用多项式方法"
   ]
  },
  {
   "cell_type": "code",
   "execution_count": 36,
   "metadata": {},
   "outputs": [
    {
     "name": "stdout",
     "output_type": "stream",
     "text": [
      "rmse is : 2.555505\n"
     ]
    }
   ],
   "source": [
    "poly2 = PolynomialFeatures()\n",
    "p2_all_x = poly2.fit_transform(part_all_x)\n",
    "\n",
    "train_x, test_x, train_y, test_y = train_test_split(p2_all_x, all_y, test_size=0.2, random_state=8)\n",
    "train_x.shape, test_x.shape\n",
    "\n",
    "lr6 = LinearRegression()\n",
    "lr6.fit(train_x, train_y)\n",
    "predict_y = lr6.predict(test_x)\n",
    "rmse = ((predict_y - test_y)**2).mean()**0.5\n",
    "print(\"rmse is : %.6f\" %(rmse))"
   ]
  },
  {
   "cell_type": "markdown",
   "metadata": {},
   "source": [
    "### 使用岭回归"
   ]
  },
  {
   "cell_type": "code",
   "execution_count": 46,
   "metadata": {},
   "outputs": [
    {
     "name": "stdout",
     "output_type": "stream",
     "text": [
      "rmse is : 3.323036\n"
     ]
    }
   ],
   "source": [
    "# Ridge\n",
    "from sklearn.linear_model import Ridge\n",
    "Ridge_all_x = data_df[features]\n",
    "train_x, test_x, train_y, test_y = train_test_split(Ridge_all_x, all_y, test_size=0.2, random_state=8)\n",
    "ridge = Ridge()\n",
    "ridge.fit(train_x, train_y)\n",
    "predict_y = ridge.predict(test_x)\n",
    "rmse = ((predict_y - test_y)**2).mean()**0.5\n",
    "print(\"rmse is : %.6f\" %(rmse))"
   ]
  },
  {
   "cell_type": "code",
   "execution_count": 38,
   "metadata": {},
   "outputs": [
    {
     "data": {
      "text/plain": [
       "<matplotlib.axes._subplots.AxesSubplot at 0x18342c52948>"
      ]
     },
     "execution_count": 38,
     "metadata": {},
     "output_type": "execute_result"
    },
    {
     "data": {
      "image/png": "[encoded data removed]",
      "text/plain": [
       "<Figure size 432x288 with 1 Axes>"
      ]
     },
     "metadata": {},
     "output_type": "display_data"
    }
   ],
   "source": [
    "sns.set()\n",
    "sns.barplot(x=ridge.coef_, y=features)"
   ]
  },
  {
   "cell_type": "markdown",
   "metadata": {},
   "source": [
    "### 将数据多项式后使用岭回归"
   ]
  },
  {
   "cell_type": "code",
   "execution_count": 50,
   "metadata": {},
   "outputs": [
    {
     "name": "stdout",
     "output_type": "stream",
     "text": [
      "rmse is : 2.555502\n"
     ]
    }
   ],
   "source": [
    "# Ridge and poly2\n",
    "\n",
    "all_x = data_df[features].values\n",
    "train_x, test_x, train_y, test_y = train_test_split(p2_all_x, all_y, test_size=0.2, random_state=8)\n",
    "ridge = Ridge()\n",
    "ridge.fit(train_x, train_y)\n",
    "predict_y = ridge.predict(test_x)\n",
    "rmse = ((predict_y - test_y)**2).mean()**0.5\n",
    "print(\"rmse is : %.6f\" %(rmse))"
   ]
  },
  {
   "cell_type": "markdown",
   "metadata": {},
   "source": [
    "### Lasso 回归"
   ]
  },
  {
   "cell_type": "code",
   "execution_count": 53,
   "metadata": {},
   "outputs": [
    {
     "name": "stdout",
     "output_type": "stream",
     "text": [
      "rmse is : 3.315492\n"
     ]
    }
   ],
   "source": [
    "from sklearn.linear_model import Lasso\n",
    "all_x = data_df[features].values\n",
    "train_x, test_x, train_y, test_y = train_test_split(all_x, all_y, test_size=0.2, random_state=8)\n",
    "lasso = Lasso()\n",
    "lasso.fit(train_x, train_y)\n",
    "predict_y = lasso.predict(test_x)\n",
    "rmse = ((predict_y - test_y)**2).mean()**0.5\n",
    "print(\"rmse is : %.6f\" %(rmse))"
   ]
  },
  {
   "cell_type": "markdown",
   "metadata": {},
   "source": [
    "### 引入region，并one-hot encoder"
   ]
  },
  {
   "cell_type": "code",
   "execution_count": 40,
   "metadata": {},
   "outputs": [],
   "source": [
    "from sklearn.preprocessing import OneHotEncoder\n",
    "enc = OneHotEncoder()\n",
    "oh_df = data_df[features]\n",
    "region_array = enc.fit_transform(data_df['region'].values.reshape(-1,1)).toarray()\n",
    "#print(region_array)\n",
    "region_features = enc.get_feature_names()\n",
    "oh_df = pd.DataFrame(region_array, columns=region_features)\n",
    "#print(oh_df)\n",
    "new_df = data_df[features]\n"
   ]
  },
  {
   "cell_type": "code",
   "execution_count": 41,
   "metadata": {},
   "outputs": [
    {
     "name": "stdout",
     "output_type": "stream",
     "text": [
      "rmse is : 4.763894\n"
     ]
    }
   ],
   "source": [
    "#print(oh_df)\n",
    "all_x = oh_df.values\n",
    "train_x, test_x, train_y, test_y = train_test_split(all_x, all_y, test_size=0.2, random_state=8)\n",
    "train_x.shape, test_x.shape\n",
    "\n",
    "lr_oh = LinearRegression()\n",
    "lr_oh.fit(train_x, train_y)\n",
    "predict_y = lr_oh.predict(test_x)\n",
    "rmse = ((predict_y - test_y)**2).mean()**0.5\n",
    "print(\"rmse is : %.6f\" %(rmse))"
   ]
  },
  {
   "cell_type": "markdown",
   "metadata": {},
   "source": [
    "### region one hot encoder 并 normalization"
   ]
  },
  {
   "cell_type": "code",
   "execution_count": 56,
   "metadata": {},
   "outputs": [
    {
     "name": "stdout",
     "output_type": "stream",
     "text": [
      "rmse is : 3.323036\n"
     ]
    }
   ],
   "source": [
    "mm_all_x = min_max.fit_transform(all_x)\n",
    "train_x, test_x, train_y, test_y = train_test_split(mm_all_x, all_y, test_size=0.2, random_state=8)\n",
    "train_x.shape, test_x.shape\n",
    "lr_oh_mm = LinearRegression()\n",
    "lr_oh_mm.fit(train_x, train_y)\n",
    "predict_y = lr_oh_mm.predict(test_x)\n",
    "rmse = ((predict_y - test_y)**2).mean()**0.5\n",
    "print(\"rmse is : %.6f\" %(rmse))"
   ]
  },
  {
   "cell_type": "markdown",
   "metadata": {},
   "source": [
    "各个实现方式的rmse：\n",
    "\n",
    "method | rmse |\n",
    " :------- | :------- |\n",
    "线性回归的rmse|3.323 |\n",
    "线性回归kfold,k=10的平均rmse|                          3.24|  \n",
    "Min Max scaler normalization rmse|                   3.320|  \n",
    "对输入取一次log的rmse|                                 2.21|  \n",
    "对输入取二次log的rmse|                                 1.626|  \n",
    "对输入取二次log并kfold,k=10的rmse|                     1.539|  \n",
    "多项式回归的rmse|                                      2.513|  \n",
    "多项式回归并kfold,k=10的rmse|                          2.518|  \n",
    "去除broad_impact的rmse|                               3.329|  \n",
    "去除broad_impact,citations,influence的rmse|           3.34|  \n",
    "去除broad_impact,citations,influence使用多项式的rmse|  2.5555|  \n",
    "使用岭回归的rmse|                                      3.32|  \n",
    "使用多项式+岭回归的rmse|                                2.5555|  \n",
    "使用Lasso回归的rmse|                                   3.315|  \n",
    "引入region并onehot encoder的rmse|                      4.76|  \n",
    "引入region并onehot encoder并normalization的rmse|       3.32|  \n",
    "\n",
    "----------------------------------------------------------------  \n",
    "Normalization，去除相关项,岭回归，引入region对最后的拟合并没有太多帮助，\n",
    "对输入log,二项式对最后的拟合有明显帮助。\n",
    "\n"
   ]
  },
  {
   "cell_type": "markdown",
   "metadata": {},
   "source": [
    "### 强强联手之：double log + poly"
   ]
  },
  {
   "cell_type": "code",
   "execution_count": 59,
   "metadata": {},
   "outputs": [
    {
     "name": "stdout",
     "output_type": "stream",
     "text": [
      "rmse is : 1.453917\n"
     ]
    }
   ],
   "source": [
    "llog2_df = log2_df[features].apply(lambda x: np.log2(x+1))\n",
    "llog_all_x = llog2_df.values\n",
    "poly_ll = PolynomialFeatures()\n",
    "polyll_all_x = poly.fit_transform(llog_all_x)\n",
    "llog2_df.insert(0, 'score', all_y)\n",
    "\n",
    "tra_x, tes_x, tra_y, tes_y = train_test_split(polyll_all_x, all_y, test_size=0.2, random_state=8)\n",
    "tra_x.shape, tes_x.shape, tra_y.shape, tes_y.shape\n",
    "\n",
    "pll_lr = LinearRegression()\n",
    "pll_lr.fit(tra_x, tra_y)\n",
    "predict_y = pll_lr.predict(tes_x)\n",
    "rmse = ((predict_y - tes_y)**2).mean()**0.5\n",
    "print(\"rmse is : %.6f\" %(rmse))"
   ]
  },
  {
   "cell_type": "markdown",
   "metadata": {},
   "source": [
    "### 强强联手之：double log + poly + kfold"
   ]
  },
  {
   "cell_type": "code",
   "execution_count": 220,
   "metadata": {},
   "outputs": [
    {
     "name": "stdout",
     "output_type": "stream",
     "text": [
      "0 times rmse is: 3.690300 \n",
      "1 times rmse is: 6.742875 \n",
      "2 times rmse is: 3.384794 \n",
      "3 times rmse is: 2.097857 \n",
      "4 times rmse is: 2.915001 \n",
      "5 times rmse is: 18.946335 \n",
      "6 times rmse is: 5.041621 \n",
      "7 times rmse is: 3.262119 \n",
      "8 times rmse is: 2.219850 \n",
      "9 times rmse is: 3.553488 \n",
      "the rmse is : 5.185424\n"
     ]
    }
   ],
   "source": [
    "dlpk_lr = LinearRegression()\n",
    "kfold = KFold(n_splits=10, random_state=5)\n",
    "sum_rmse = 0\n",
    "for i, (train_i, test_i) in enumerate(kfold.split(polyll_all_x, all_y)):\n",
    "    dlpk_lr.fit(polyll_all_x[train_i], all_y[train_i])\n",
    "    predict_y = dlpk_lr.predict(polyll_all_x[test_i])\n",
    "    rmse = ((predict_y - all_y[test_i])**2).mean()**0.5\n",
    "    print(\"%d times rmse is: %.6f \" %(i, rmse))\n",
    "    sum_rmse += rmse\n",
    "print(\"the rmse is : %.6f\" %(sum_rmse/(i+1)))"
   ]
  },
  {
   "cell_type": "markdown",
   "metadata": {},
   "source": [
    "## double log + poly 的效果最好， rmse为1.454"
   ]
  }
 ],
 "metadata": {
  "kernelspec": {
   "display_name": "Python 3",
   "language": "python",
   "name": "python3"
  },
  "language_info": {
   "codemirror_mode": {
    "name": "ipython",
    "version": 3
   },
   "file_extension": ".py",
   "mimetype": "text/x-python",
   "name": "python",
   "nbconvert_exporter": "python",
   "pygments_lexer": "ipython3",
   "version": "3.6.12"
  }
 },
 "nbformat": 4,
 "nbformat_minor": 4
}
