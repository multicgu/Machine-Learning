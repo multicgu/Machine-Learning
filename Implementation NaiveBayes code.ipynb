{
 "cells": [
  {
   "cell_type": "code",
   "execution_count": 1,
   "metadata": {},
   "outputs": [],
   "source": [
    "from sklearn.feature_extraction.text import CountVectorizer, TfidfVectorizer # 提取文本特征向量的类\n",
    "from sklearn.naive_bayes import MultinomialNB, BernoulliNB, ComplementNB # 三种朴素贝叶斯算法，差别在于估计p(x|y)的方式\n",
    "import pandas as pd\n",
    "import numpy as np\n",
    "from sklearn.model_selection import train_test_split\n",
    "from sklearn.metrics import accuracy_score, confusion_matrix, classification_report, precision_recall_fscore_support\n",
    "import math"
   ]
  },
  {
   "cell_type": "markdown",
   "metadata": {},
   "source": [
    "还是使用垃圾邮件的数据集来测试"
   ]
  },
  {
   "cell_type": "code",
   "execution_count": 2,
   "metadata": {},
   "outputs": [],
   "source": [
    "df = pd.read_table('./trec06c-utf8/label/index', sep=' ', header=None, names=['target','path'])\n",
    "df['path'] = df['path'].str.replace('./data','/trec06c-utf8/data_cut')\n",
    "emails = []\n",
    "\n",
    "for i,j in df.iterrows():\n",
    "    with open(j['path'], encoding='utf-8') as f:\n",
    "        email = f.read()\n",
    "        emails.append(''.join(email.split(\"\\n\\n\",1)[1:]))"
   ]
  },
  {
   "cell_type": "code",
   "execution_count": 3,
   "metadata": {},
   "outputs": [
    {
     "name": "stdout",
     "output_type": "stream",
     "text": [
      "<class 'list'> <class 'list'>\n"
     ]
    }
   ],
   "source": [
    "#emails = np.array(emails)\n",
    "train_x, test_x, train_y, test_y = train_test_split(emails, df['target'].values, test_size=0.2, random_state=8)\n",
    "print(type(train_x), type(test_x))"
   ]
  },
  {
   "cell_type": "code",
   "execution_count": 5,
   "metadata": {},
   "outputs": [
    {
     "name": "stdout",
     "output_type": "stream",
     "text": [
      "(51696, 181154) (12924, 181154)\n",
      "<class 'scipy.sparse.csr.csr_matrix'> <class 'scipy.sparse.csr.csr_matrix'>\n",
      "(51696, 181154) (12924, 181154)\n",
      "<class 'scipy.sparse.csr.csr_matrix'> <class 'scipy.sparse.csr.csr_matrix'>\n",
      "\n"
     ]
    }
   ],
   "source": [
    "vectorizer = CountVectorizer()\n",
    "train_x = vectorizer.fit_transform(train_x)\n",
    "test_x = vectorizer.transform(test_x)\n",
    "print(train_x.shape, test_x.shape)\n",
    "print(type(train_x), type(test_x))\n",
    "np.array(train_x)\n",
    "np.array(test_y)\n",
    "print(train_x.shape, test_x.shape)\n",
    "print(type(train_x), type(test_x))"
   ]
  },
  {
   "cell_type": "code",
   "execution_count": 9,
   "metadata": {},
   "outputs": [
    {
     "name": "stdout",
     "output_type": "stream",
     "text": [
      "34357\n",
      "17339\n"
     ]
    }
   ],
   "source": [
    "train_y[train_y == 'spam'] = 1\n",
    "train_y[train_y == 'ham' ] = 0\n",
    "print(len(train_y[train_y == 1]))\n",
    "print(len(train_y[train_y == 0]))\n",
    "test_y[test_y == 'spam'] = 1\n",
    "test_y[test_y == 'ham' ] = 0"
   ]
  },
  {
   "cell_type": "code",
   "execution_count": 10,
   "metadata": {},
   "outputs": [],
   "source": [
    "class NavieBayes(object):\n",
    "    def __init__(self):\n",
    "        self.PT = 0\n",
    "        self.PF = 0\n",
    "        self.lPT = 0\n",
    "        self.lPF = 0\n",
    "        self.PfT = []\n",
    "        self.PfF = []\n",
    "        \n",
    "    def fit(self, X, Y):\n",
    "        doc_num = len(Y)\n",
    "        self.PT = len(Y[Y == 1])/doc_num # problity of T label\n",
    "        self.PF = len(Y[Y == 0])/doc_num # problity of F label\n",
    "        self.lPT = np.log((len(Y[Y == 1])+1)/doc_num) # log of problity of T label\n",
    "        self.lPF = np.log((len(Y[Y == 0])+1)/doc_num) # log of problity of F label\n",
    "        X[X>0] = 1\n",
    "        feature_num = X.sum(axis=0)\n",
    "        T = np.where(Y==1)\n",
    "        F = np.where(Y==0)\n",
    "        self.PfT = np.log((X[T].sum(axis=0)+1)/len(Y[Y==1]))\n",
    "        self.PfF = np.log((X[F].sum(axis=0)+1)/len(Y[Y==0]))\n",
    "\n",
    "    def predict(self, X, Y):\n",
    "        P_Y = []\n",
    "        PT = self.lPT + (X*self.PfT.T)\n",
    "        PF = self.lPT + (X*self.PfF.T)\n",
    "        for i in range(len(PT)):\n",
    "            P_Y.append(int(1)) if PT[i] > PF[i] else P_Y.append(int(0))\n",
    "        return P_Y"
   ]
  },
  {
   "cell_type": "code",
   "execution_count": 11,
   "metadata": {},
   "outputs": [
    {
     "name": "stdout",
     "output_type": "stream",
     "text": [
      "Accuracy by BernoulliNB is : 0.970520\n"
     ]
    }
   ],
   "source": [
    "NB = NavieBayes()\n",
    "NB.fit(train_x, train_y)\n",
    "predict_y = NB.predict(test_x, test_y)\n",
    "predict_y = np.array(predict_y)\n",
    "#test_acc = accuracy_score(test_y, predict_y)\n",
    "def acc(y_target, y_predict):\n",
    "    return (y_target==y_predict).mean()\n",
    "test_acc = acc(test_y, predict_y)\n",
    "print(\"Accuracy by BernoulliNB is : %.6f\" %(test_acc))"
   ]
  }
 ],
 "metadata": {
  "kernelspec": {
   "display_name": "Python 3",
   "language": "python",
   "name": "python3"
  },
  "language_info": {
   "codemirror_mode": {
    "name": "ipython",
    "version": 3
   },
   "file_extension": ".py",
   "mimetype": "text/x-python",
   "name": "python",
   "nbconvert_exporter": "python",
   "pygments_lexer": "ipython3",
   "version": "3.6.12"
  }
 },
 "nbformat": 4,
 "nbformat_minor": 4
}
